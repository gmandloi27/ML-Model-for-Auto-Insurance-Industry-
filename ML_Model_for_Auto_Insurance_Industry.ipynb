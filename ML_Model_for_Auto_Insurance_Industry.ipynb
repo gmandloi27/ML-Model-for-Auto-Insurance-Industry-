{
  "cells": [
    {
      "cell_type": "markdown",
      "metadata": {
        "id": "0aD-PHolSMph"
      },
      "source": [
        "# ML Model for Auto Insurance Industry"
      ]
    },
    {
      "cell_type": "markdown",
      "metadata": {
        "id": "YpkAKb0MSMpl"
      },
      "source": [
        "### Aim of the Project\n",
        "> The aim of the project is to build a Machine Learning Model to predict whether an owner will initiate an auto insurance claim in the next year.\n",
        "\n",
        "### Background\n",
        "> The auto insurance industry is witnessing a paradigm shift. Since auto insurance company consists of homogenous good thereby making it difficult to differentiate product A from product B, also companies are fighting a price war (for insurance price). On top of that, the distribution channel is shifting more from traditional insurance brokers to online purchases, which means that the ability for companies to interact through human touchpoints is limited, and customers should be quoted at a reasonable price. A good price quote is one that makes the customer purchase the policy and helps the company to increase the profits.\n",
        "Also, the insurance premium is calculated based on more than 50+ parameters, which means that traditional business analytics-based algorithms are now limited in their ability to differentiate among customers based on subtle parameters.\n",
        "\n",
        "**The model shall mainly support the following use cases:**\n",
        "\n",
        ">**1. Conquering Market Share:** Capture market share by lowering the prices of the premium for the customers, who are least likely to claim.\n",
        "\n",
        ">**2. Risk Management:** Charge the right premium from the customer, who is likely to claim insurance in the coming year\n",
        "\n",
        ">**3. Smooth Processing:** Reduce the complexity of pricing models. Most of the transactions are happening online with larger customer attributes (thanks to the internet and social media). Harness the power of huge data to build complex ML models\n",
        "\n",
        ">**4. Increased Profits:** As per industry estimate 1% reduction in the claim can boost profit by 10%. So, through the ML model, we can identify and deny the insurance to the driver who will make a claim. Thus, ensuring reduced claim outgo and increased profit.\n",
        "\n",
        "Part of the model development is to identify and prioritize the above use cases."
      ]
    },
    {
      "cell_type": "code",
      "execution_count": 2,
      "metadata": {
        "_cell_guid": "b1076dfc-b9ad-4769-8c92-a6c4dae69d19",
        "_uuid": "8f2839f25d086af736a60e9eeb907d3b93b6e0e5",
        "id": "-rzlammLSMpm"
      },
      "outputs": [],
      "source": [
        "# This Python 3 environment comes with many helpful analytics libraries installed\n",
        "# For example, here's several helpful packages to load\n",
        "\n",
        "import numpy as np # linear algebra\n",
        "import pandas as pd # data processing, CSV file I/O (e.g. pd.read_csv)\n",
        "\n",
        "# Input data files are available in the read-only \"../input/\" directory\n",
        "# For example, running this (by clicking run or pressing Shift+Enter) will list all files under the input directory\n",
        "\n",
        "import os\n",
        "for dirname, _, filenames in os.walk(r'train.csv'):\n",
        "    for filename in filenames:\n",
        "        print(os.path.join(dirname, filename))\n",
        "\n",
        "# You can write up to 5GB to the current directory (/kaggle/working/) that gets preserved as output when you create a version using \"Save & Run All\"\n",
        "# You can also write temporary files to /kaggle/temp/, but they won't be saved outside of the current session"
      ]
    },
    {
      "cell_type": "code",
      "execution_count": 3,
      "metadata": {
        "_cell_guid": "79c7e3d0-c299-4dcb-8224-4455121ee9b0",
        "_uuid": "d629ff2d2480ee46fbb7e2d37f6b5fab8052498a",
        "colab": {
          "base_uri": "https://localhost:8080/",
          "height": 17
        },
        "id": "04FofTBvSMpo",
        "outputId": "894279d6-b8dc-4ada-c9be-56d49f355acf"
      },
      "outputs": [
        {
          "output_type": "display_data",
          "data": {
            "text/html": [
              "        <script type=\"text/javascript\">\n",
              "        window.PlotlyConfig = {MathJaxConfig: 'local'};\n",
              "        if (window.MathJax && window.MathJax.Hub && window.MathJax.Hub.Config) {window.MathJax.Hub.Config({SVG: {font: \"STIX-Web\"}});}\n",
              "        if (typeof require !== 'undefined') {\n",
              "        require.undef(\"plotly\");\n",
              "        requirejs.config({\n",
              "            paths: {\n",
              "                'plotly': ['https://cdn.plot.ly/plotly-2.35.2.min']\n",
              "            }\n",
              "        });\n",
              "        require(['plotly'], function(Plotly) {\n",
              "            window._Plotly = Plotly;\n",
              "        });\n",
              "        }\n",
              "        </script>\n",
              "        "
            ]
          },
          "metadata": {}
        }
      ],
      "source": [
        "import pandas as pd\n",
        "import numpy as np\n",
        "from datetime import datetime\n",
        "from sklearn.linear_model import LogisticRegression\n",
        "from sklearn import svm\n",
        "from sklearn.model_selection import RandomizedSearchCV, GridSearchCV\n",
        "from xgboost import XGBClassifier\n",
        "import xgboost as xgb\n",
        "from sklearn.ensemble import RandomForestClassifier\n",
        "from sklearn.ensemble import AdaBoostClassifier\n",
        "from sklearn.neural_network import MLPClassifier\n",
        "from sklearn import metrics\n",
        "from sklearn.metrics import confusion_matrix,mean_squared_error,accuracy_score\n",
        "from sklearn.metrics import precision_score,recall_score,roc_auc_score,f1_score,cohen_kappa_score\n",
        "from sklearn.utils import resample\n",
        "from pprint import pprint\n",
        "\n",
        "import plotly as py\n",
        "import plotly.graph_objs as go\n",
        "import matplotlib.pyplot as plt\n",
        "import seaborn as sns\n",
        "import math\n",
        "from IPython.display import Markdown, display\n",
        "import statsmodels.api as sm # import API\n",
        "from matplotlib.pyplot import xticks\n",
        "\n",
        "sns.set(style=\"whitegrid\")\n",
        "pd.set_option('display.max_columns', 100)\n",
        "py.offline.init_notebook_mode(connected=True)\n",
        "pd.options.display.float_format = '{:20,.2f}'.format\n",
        "import warnings\n",
        "warnings.filterwarnings('ignore')\n",
        "%matplotlib inline"
      ]
    },
    {
      "cell_type": "markdown",
      "metadata": {
        "id": "9do8lPaLSMpq"
      },
      "source": [
        "##### Data Helper Utilities\n"
      ]
    },
    {
      "cell_type": "code",
      "execution_count": 4,
      "metadata": {
        "id": "r2k4NuusSMpq"
      },
      "outputs": [],
      "source": [
        "def log(string):\n",
        "    display(Markdown(\"> <span style='color:blue'>\"+string+\"</span>\"))\n",
        "\n",
        "def header(string):\n",
        "    display(Markdown(\"------ \"))\n",
        "    display(Markdown(\"### \"+string))\n",
        "\n",
        "def get_variable_type(element) :\n",
        "    \"\"\"\n",
        "     Check is columns are of Continuous or Categorical variable.\n",
        "     Assumption is that if\n",
        "                 unique count < 20 then categorical\n",
        "                 unique count >= 20 and dtype = [int64 or float64] then continuous\n",
        "     \"\"\"\n",
        "    if element==0:\n",
        "        return \"Not Known\"\n",
        "    elif element < 20 and element!=0 :\n",
        "        return \"Categorical\"\n",
        "    elif element >= 20 and element!=0 :\n",
        "        return \"Contineous\"\n",
        "\n",
        "def predict_variable_type(metadata_matrix):\n",
        "    metadata_matrix[\"Variable_Type\"] = metadata_matrix[\"Unique_Values_Count\"].apply(get_variable_type).astype(str)\n",
        "    metadata_matrix[\"frequency\"] = metadata_matrix[\"Null_Count\"] - metadata_matrix[\"Null_Count\"]\n",
        "    metadata_matrix[\"frequency\"].astype(int)\n",
        "    return metadata_matrix\n",
        "\n",
        "def get_meta_data(dataframe) :\n",
        "    \"\"\"\n",
        "     Method to get Meta-Data about any dataframe passed\n",
        "    \"\"\"\n",
        "    metadata_matrix = pd.DataFrame({\n",
        "                    'Datatype' : dataframe.dtypes.astype(str), # data types of columns\n",
        "                    'Non_Null_Count': dataframe.count(axis = 0).astype(int), # total elements in columns\n",
        "                    'Null_Count': dataframe.isnull().sum().astype(int), # total null values in columns\n",
        "                    'Null_Percentage': dataframe.isnull().sum()/len(dataframe) * 100, # percentage of null values\n",
        "                    'Unique_Values_Count': dataframe.nunique().astype(int) # number of unique values\n",
        "                     })\n",
        "\n",
        "    metadata_matrix = predict_variable_type(metadata_matrix)\n",
        "    return metadata_matrix\n",
        "\n",
        "def plot_data_pie_chat(dataframe,col) :\n",
        "    header(\"Stats for \"+col+\" Datatype Percentage Distribution\")\n",
        "    dataframe_group = dataframe.groupby(col).frequency.count().reset_index()\n",
        "    dataframe_group.sort_values([col], axis=0,ascending=False, inplace=True)\n",
        "    trace = go.Pie(labels=dataframe_group[col].tolist(), values=dataframe_group[\"frequency\"].tolist())\n",
        "    layout = go.Layout(title=\"Datatype Percentage Distribution\")\n",
        "    fig = go.Figure(data=[trace], layout=layout)\n",
        "    py.offline.iplot(fig)\n",
        "\n",
        "def pairplot(x_axis,y_axis) :\n",
        "    sns.pairplot(car_df,x_vars=x_axis,y_vars=y_axis,height=4,aspect=1,kind=\"scatter\")\n",
        "    plt.show()\n",
        "\n",
        "def heatmap(x,y,dataframe):\n",
        "    plt.figure(figsize=(x,y))\n",
        "    sns.heatmap(dataframe.corr(),cmap=\"OrRd\",annot=True)\n",
        "    plt.show()\n",
        "\n",
        "def bar_count_plot(dataframe,col_name) :\n",
        "    plt.figure(figsize=(16,8))\n",
        "    plt.title(col_name + 'Histogram')\n",
        "    sns.countplot(dataframe[col_name], palette=(\"plasma\"))\n",
        "    xticks(rotation = 90)\n",
        "    plt.show()\n",
        "\n",
        "def color_red(val):\n",
        "    \"\"\"\n",
        "    Takes a scalar and returns a string with\n",
        "    the css property `'color: red'` for value\n",
        "    greater than 10 , black otherwise.\n",
        "    \"\"\"\n",
        "    color = 'red' if val > 5 else 'black'\n",
        "    return 'color: %s' % color\n",
        "\n",
        "def accuracy_result(y_test, y_pred_test):\n",
        "    from sklearn import metrics\n",
        "    from sklearn.metrics import confusion_matrix, classification_report\n",
        "    confusion_matrix=metrics.confusion_matrix(y_test, y_pred_test)\n",
        "    # USE THE IMPORTED CONFUSION MATRIX\n",
        "    print('\\n CONFUSION MATRIX:\\n ', confusion_matrix,'\\n')\n",
        "    TP = confusion_matrix[1, 1]\n",
        "    TN = confusion_matrix[0, 0]\n",
        "    FP = confusion_matrix[0, 1]\n",
        "    FN = confusion_matrix[1, 0]\n",
        "    false_positive_rate = round(FP / float(TN + FP),3)\n",
        "    print('FPR: ', false_positive_rate)\n",
        "    print('TPR/ RECALL/ SENSTIVITY: ', round(metrics.recall_score(y_test, y_pred_test), 3))\n",
        "    print('PRECISION:' ,round(metrics.precision_score(y_test, y_pred_test), 3))\n",
        "    specificity = round(TN / (TN + FP),3)\n",
        "    print('SPECIFICITY: ',specificity)\n",
        "    print('ACCURACY: ', np.round(metrics.accuracy_score(y_test, y_pred_test),3))\n",
        "    print('ROC AUC: ', np.round(roc_auc_score(y_test, y_pred_test),3))\n",
        "    print('Cohens kappa: ',np.round(cohen_kappa_score(y_test, y_pred_test),3))\n",
        "    print('F1 score: ', np.round(f1_score(y_test, y_pred_test),3))\n",
        "    print('\\n CLASSIFICATION REPORT: \\n',classification_report(y_test,y_pred_test))\n",
        "    return"
      ]
    },
    {
      "cell_type": "markdown",
      "metadata": {
        "id": "syhaTsUmSMpr"
      },
      "source": [
        "##### Import data"
      ]
    },
    {
      "cell_type": "code",
      "execution_count": 6,
      "metadata": {
        "colab": {
          "base_uri": "https://localhost:8080/",
          "height": 226
        },
        "id": "FlRJu86ZSMps",
        "outputId": "861999f4-f6ff-4190-f1c3-43745ebaf964"
      },
      "outputs": [
        {
          "output_type": "execute_result",
          "data": {
            "text/plain": [
              "   id  target  ps_ind_01  ps_ind_02_cat  ps_ind_03  ps_ind_04_cat  \\\n",
              "0   7       0          2              2          5              1   \n",
              "1   9       0          1              1          7              0   \n",
              "2  13       0          5              4          9              1   \n",
              "3  16       0          0              1          2              0   \n",
              "4  17       0          0              2          0              1   \n",
              "\n",
              "   ps_ind_05_cat  ps_ind_06_bin  ps_ind_07_bin  ps_ind_08_bin  ps_ind_09_bin  \\\n",
              "0              0              0              1              0              0   \n",
              "1              0              0              0              1              0   \n",
              "2              0              0              0              1              0   \n",
              "3              0              1              0              0              0   \n",
              "4              0              1              0              0              0   \n",
              "\n",
              "   ps_ind_10_bin  ps_ind_11_bin  ps_ind_12_bin  ps_ind_13_bin  ps_ind_14  \\\n",
              "0              0              0              0              0          0   \n",
              "1              0              0              0              0          0   \n",
              "2              0              0              0              0          0   \n",
              "3              0              0              0              0          0   \n",
              "4              0              0              0              0          0   \n",
              "\n",
              "   ps_ind_15  ps_ind_16_bin  ps_ind_17_bin  ps_ind_18_bin  \\\n",
              "0         11              0              1              0   \n",
              "1          3              0              0              1   \n",
              "2         12              1              0              0   \n",
              "3          8              1              0              0   \n",
              "4          9              1              0              0   \n",
              "\n",
              "             ps_reg_01            ps_reg_02            ps_reg_03  \\\n",
              "0                 0.70                 0.20                 0.72   \n",
              "1                 0.80                 0.40                 0.77   \n",
              "2                 0.00                 0.00                -1.00   \n",
              "3                 0.90                 0.20                 0.58   \n",
              "4                 0.70                 0.60                 0.84   \n",
              "\n",
              "   ps_car_01_cat  ps_car_02_cat  ps_car_03_cat  ps_car_04_cat  ps_car_05_cat  \\\n",
              "0             10              1             -1              0              1   \n",
              "1             11              1             -1              0             -1   \n",
              "2              7              1             -1              0             -1   \n",
              "3              7              1              0              0              1   \n",
              "4             11              1             -1              0             -1   \n",
              "\n",
              "   ps_car_06_cat  ps_car_07_cat  ps_car_08_cat  ps_car_09_cat  ps_car_10_cat  \\\n",
              "0              4              1              0              0              1   \n",
              "1             11              1              1              2              1   \n",
              "2             14              1              1              2              1   \n",
              "3             11              1              1              3              1   \n",
              "4             14              1              1              2              1   \n",
              "\n",
              "   ps_car_11_cat  ps_car_11            ps_car_12            ps_car_13  \\\n",
              "0             12          2                 0.40                 0.88   \n",
              "1             19          3                 0.32                 0.62   \n",
              "2             60          1                 0.32                 0.64   \n",
              "3            104          1                 0.37                 0.54   \n",
              "4             82          3                 0.32                 0.57   \n",
              "\n",
              "             ps_car_14            ps_car_15           ps_calc_01  \\\n",
              "0                 0.37                 3.61                 0.60   \n",
              "1                 0.39                 2.45                 0.30   \n",
              "2                 0.35                 3.32                 0.50   \n",
              "3                 0.29                 2.00                 0.60   \n",
              "4                 0.37                 2.00                 0.40   \n",
              "\n",
              "            ps_calc_02           ps_calc_03           ps_calc_04  \\\n",
              "0                 0.50                 0.20                 3.00   \n",
              "1                 0.10                 0.30                 2.00   \n",
              "2                 0.70                 0.10                 2.00   \n",
              "3                 0.90                 0.10                 2.00   \n",
              "4                 0.60                 0.00                 2.00   \n",
              "\n",
              "            ps_calc_05           ps_calc_06           ps_calc_07  \\\n",
              "0                 1.00                10.00                 1.00   \n",
              "1                 1.00                 9.00                 5.00   \n",
              "2                 2.00                 9.00                 1.00   \n",
              "3                 4.00                 7.00                 1.00   \n",
              "4                 2.00                 6.00                 3.00   \n",
              "\n",
              "            ps_calc_08           ps_calc_09           ps_calc_10  \\\n",
              "0                10.00                 1.00                 5.00   \n",
              "1                 8.00                 1.00                 7.00   \n",
              "2                 8.00                 2.00                 7.00   \n",
              "3                 8.00                 4.00                 2.00   \n",
              "4                10.00                 2.00                12.00   \n",
              "\n",
              "            ps_calc_11           ps_calc_12           ps_calc_13  \\\n",
              "0                 9.00                 1.00                 5.00   \n",
              "1                 3.00                 1.00                 1.00   \n",
              "2                 4.00                 2.00                 7.00   \n",
              "3                 2.00                 2.00                 4.00   \n",
              "4                 3.00                 1.00                 1.00   \n",
              "\n",
              "            ps_calc_14       ps_calc_15_bin       ps_calc_16_bin  \\\n",
              "0                 8.00                 0.00                 1.00   \n",
              "1                 9.00                 0.00                 1.00   \n",
              "2                 7.00                 0.00                 1.00   \n",
              "3                 9.00                 0.00                 0.00   \n",
              "4                 3.00                 0.00                 0.00   \n",
              "\n",
              "        ps_calc_17_bin       ps_calc_18_bin       ps_calc_19_bin  \\\n",
              "0                 1.00                 0.00                 0.00   \n",
              "1                 1.00                 0.00                 1.00   \n",
              "2                 1.00                 0.00                 1.00   \n",
              "3                 0.00                 0.00                 0.00   \n",
              "4                 0.00                 1.00                 1.00   \n",
              "\n",
              "        ps_calc_20_bin  \n",
              "0                 1.00  \n",
              "1                 0.00  \n",
              "2                 0.00  \n",
              "3                 0.00  \n",
              "4                 0.00  "
            ],
            "text/html": [
              "\n",
              "  <div id=\"df-c4c953fe-0212-40b2-bb5d-cc767f87ee3e\" class=\"colab-df-container\">\n",
              "    <div>\n",
              "<style scoped>\n",
              "    .dataframe tbody tr th:only-of-type {\n",
              "        vertical-align: middle;\n",
              "    }\n",
              "\n",
              "    .dataframe tbody tr th {\n",
              "        vertical-align: top;\n",
              "    }\n",
              "\n",
              "    .dataframe thead th {\n",
              "        text-align: right;\n",
              "    }\n",
              "</style>\n",
              "<table border=\"1\" class=\"dataframe\">\n",
              "  <thead>\n",
              "    <tr style=\"text-align: right;\">\n",
              "      <th></th>\n",
              "      <th>id</th>\n",
              "      <th>target</th>\n",
              "      <th>ps_ind_01</th>\n",
              "      <th>ps_ind_02_cat</th>\n",
              "      <th>ps_ind_03</th>\n",
              "      <th>ps_ind_04_cat</th>\n",
              "      <th>ps_ind_05_cat</th>\n",
              "      <th>ps_ind_06_bin</th>\n",
              "      <th>ps_ind_07_bin</th>\n",
              "      <th>ps_ind_08_bin</th>\n",
              "      <th>ps_ind_09_bin</th>\n",
              "      <th>ps_ind_10_bin</th>\n",
              "      <th>ps_ind_11_bin</th>\n",
              "      <th>ps_ind_12_bin</th>\n",
              "      <th>ps_ind_13_bin</th>\n",
              "      <th>ps_ind_14</th>\n",
              "      <th>ps_ind_15</th>\n",
              "      <th>ps_ind_16_bin</th>\n",
              "      <th>ps_ind_17_bin</th>\n",
              "      <th>ps_ind_18_bin</th>\n",
              "      <th>ps_reg_01</th>\n",
              "      <th>ps_reg_02</th>\n",
              "      <th>ps_reg_03</th>\n",
              "      <th>ps_car_01_cat</th>\n",
              "      <th>ps_car_02_cat</th>\n",
              "      <th>ps_car_03_cat</th>\n",
              "      <th>ps_car_04_cat</th>\n",
              "      <th>ps_car_05_cat</th>\n",
              "      <th>ps_car_06_cat</th>\n",
              "      <th>ps_car_07_cat</th>\n",
              "      <th>ps_car_08_cat</th>\n",
              "      <th>ps_car_09_cat</th>\n",
              "      <th>ps_car_10_cat</th>\n",
              "      <th>ps_car_11_cat</th>\n",
              "      <th>ps_car_11</th>\n",
              "      <th>ps_car_12</th>\n",
              "      <th>ps_car_13</th>\n",
              "      <th>ps_car_14</th>\n",
              "      <th>ps_car_15</th>\n",
              "      <th>ps_calc_01</th>\n",
              "      <th>ps_calc_02</th>\n",
              "      <th>ps_calc_03</th>\n",
              "      <th>ps_calc_04</th>\n",
              "      <th>ps_calc_05</th>\n",
              "      <th>ps_calc_06</th>\n",
              "      <th>ps_calc_07</th>\n",
              "      <th>ps_calc_08</th>\n",
              "      <th>ps_calc_09</th>\n",
              "      <th>ps_calc_10</th>\n",
              "      <th>ps_calc_11</th>\n",
              "      <th>ps_calc_12</th>\n",
              "      <th>ps_calc_13</th>\n",
              "      <th>ps_calc_14</th>\n",
              "      <th>ps_calc_15_bin</th>\n",
              "      <th>ps_calc_16_bin</th>\n",
              "      <th>ps_calc_17_bin</th>\n",
              "      <th>ps_calc_18_bin</th>\n",
              "      <th>ps_calc_19_bin</th>\n",
              "      <th>ps_calc_20_bin</th>\n",
              "    </tr>\n",
              "  </thead>\n",
              "  <tbody>\n",
              "    <tr>\n",
              "      <th>0</th>\n",
              "      <td>7</td>\n",
              "      <td>0</td>\n",
              "      <td>2</td>\n",
              "      <td>2</td>\n",
              "      <td>5</td>\n",
              "      <td>1</td>\n",
              "      <td>0</td>\n",
              "      <td>0</td>\n",
              "      <td>1</td>\n",
              "      <td>0</td>\n",
              "      <td>0</td>\n",
              "      <td>0</td>\n",
              "      <td>0</td>\n",
              "      <td>0</td>\n",
              "      <td>0</td>\n",
              "      <td>0</td>\n",
              "      <td>11</td>\n",
              "      <td>0</td>\n",
              "      <td>1</td>\n",
              "      <td>0</td>\n",
              "      <td>0.70</td>\n",
              "      <td>0.20</td>\n",
              "      <td>0.72</td>\n",
              "      <td>10</td>\n",
              "      <td>1</td>\n",
              "      <td>-1</td>\n",
              "      <td>0</td>\n",
              "      <td>1</td>\n",
              "      <td>4</td>\n",
              "      <td>1</td>\n",
              "      <td>0</td>\n",
              "      <td>0</td>\n",
              "      <td>1</td>\n",
              "      <td>12</td>\n",
              "      <td>2</td>\n",
              "      <td>0.40</td>\n",
              "      <td>0.88</td>\n",
              "      <td>0.37</td>\n",
              "      <td>3.61</td>\n",
              "      <td>0.60</td>\n",
              "      <td>0.50</td>\n",
              "      <td>0.20</td>\n",
              "      <td>3.00</td>\n",
              "      <td>1.00</td>\n",
              "      <td>10.00</td>\n",
              "      <td>1.00</td>\n",
              "      <td>10.00</td>\n",
              "      <td>1.00</td>\n",
              "      <td>5.00</td>\n",
              "      <td>9.00</td>\n",
              "      <td>1.00</td>\n",
              "      <td>5.00</td>\n",
              "      <td>8.00</td>\n",
              "      <td>0.00</td>\n",
              "      <td>1.00</td>\n",
              "      <td>1.00</td>\n",
              "      <td>0.00</td>\n",
              "      <td>0.00</td>\n",
              "      <td>1.00</td>\n",
              "    </tr>\n",
              "    <tr>\n",
              "      <th>1</th>\n",
              "      <td>9</td>\n",
              "      <td>0</td>\n",
              "      <td>1</td>\n",
              "      <td>1</td>\n",
              "      <td>7</td>\n",
              "      <td>0</td>\n",
              "      <td>0</td>\n",
              "      <td>0</td>\n",
              "      <td>0</td>\n",
              "      <td>1</td>\n",
              "      <td>0</td>\n",
              "      <td>0</td>\n",
              "      <td>0</td>\n",
              "      <td>0</td>\n",
              "      <td>0</td>\n",
              "      <td>0</td>\n",
              "      <td>3</td>\n",
              "      <td>0</td>\n",
              "      <td>0</td>\n",
              "      <td>1</td>\n",
              "      <td>0.80</td>\n",
              "      <td>0.40</td>\n",
              "      <td>0.77</td>\n",
              "      <td>11</td>\n",
              "      <td>1</td>\n",
              "      <td>-1</td>\n",
              "      <td>0</td>\n",
              "      <td>-1</td>\n",
              "      <td>11</td>\n",
              "      <td>1</td>\n",
              "      <td>1</td>\n",
              "      <td>2</td>\n",
              "      <td>1</td>\n",
              "      <td>19</td>\n",
              "      <td>3</td>\n",
              "      <td>0.32</td>\n",
              "      <td>0.62</td>\n",
              "      <td>0.39</td>\n",
              "      <td>2.45</td>\n",
              "      <td>0.30</td>\n",
              "      <td>0.10</td>\n",
              "      <td>0.30</td>\n",
              "      <td>2.00</td>\n",
              "      <td>1.00</td>\n",
              "      <td>9.00</td>\n",
              "      <td>5.00</td>\n",
              "      <td>8.00</td>\n",
              "      <td>1.00</td>\n",
              "      <td>7.00</td>\n",
              "      <td>3.00</td>\n",
              "      <td>1.00</td>\n",
              "      <td>1.00</td>\n",
              "      <td>9.00</td>\n",
              "      <td>0.00</td>\n",
              "      <td>1.00</td>\n",
              "      <td>1.00</td>\n",
              "      <td>0.00</td>\n",
              "      <td>1.00</td>\n",
              "      <td>0.00</td>\n",
              "    </tr>\n",
              "    <tr>\n",
              "      <th>2</th>\n",
              "      <td>13</td>\n",
              "      <td>0</td>\n",
              "      <td>5</td>\n",
              "      <td>4</td>\n",
              "      <td>9</td>\n",
              "      <td>1</td>\n",
              "      <td>0</td>\n",
              "      <td>0</td>\n",
              "      <td>0</td>\n",
              "      <td>1</td>\n",
              "      <td>0</td>\n",
              "      <td>0</td>\n",
              "      <td>0</td>\n",
              "      <td>0</td>\n",
              "      <td>0</td>\n",
              "      <td>0</td>\n",
              "      <td>12</td>\n",
              "      <td>1</td>\n",
              "      <td>0</td>\n",
              "      <td>0</td>\n",
              "      <td>0.00</td>\n",
              "      <td>0.00</td>\n",
              "      <td>-1.00</td>\n",
              "      <td>7</td>\n",
              "      <td>1</td>\n",
              "      <td>-1</td>\n",
              "      <td>0</td>\n",
              "      <td>-1</td>\n",
              "      <td>14</td>\n",
              "      <td>1</td>\n",
              "      <td>1</td>\n",
              "      <td>2</td>\n",
              "      <td>1</td>\n",
              "      <td>60</td>\n",
              "      <td>1</td>\n",
              "      <td>0.32</td>\n",
              "      <td>0.64</td>\n",
              "      <td>0.35</td>\n",
              "      <td>3.32</td>\n",
              "      <td>0.50</td>\n",
              "      <td>0.70</td>\n",
              "      <td>0.10</td>\n",
              "      <td>2.00</td>\n",
              "      <td>2.00</td>\n",
              "      <td>9.00</td>\n",
              "      <td>1.00</td>\n",
              "      <td>8.00</td>\n",
              "      <td>2.00</td>\n",
              "      <td>7.00</td>\n",
              "      <td>4.00</td>\n",
              "      <td>2.00</td>\n",
              "      <td>7.00</td>\n",
              "      <td>7.00</td>\n",
              "      <td>0.00</td>\n",
              "      <td>1.00</td>\n",
              "      <td>1.00</td>\n",
              "      <td>0.00</td>\n",
              "      <td>1.00</td>\n",
              "      <td>0.00</td>\n",
              "    </tr>\n",
              "    <tr>\n",
              "      <th>3</th>\n",
              "      <td>16</td>\n",
              "      <td>0</td>\n",
              "      <td>0</td>\n",
              "      <td>1</td>\n",
              "      <td>2</td>\n",
              "      <td>0</td>\n",
              "      <td>0</td>\n",
              "      <td>1</td>\n",
              "      <td>0</td>\n",
              "      <td>0</td>\n",
              "      <td>0</td>\n",
              "      <td>0</td>\n",
              "      <td>0</td>\n",
              "      <td>0</td>\n",
              "      <td>0</td>\n",
              "      <td>0</td>\n",
              "      <td>8</td>\n",
              "      <td>1</td>\n",
              "      <td>0</td>\n",
              "      <td>0</td>\n",
              "      <td>0.90</td>\n",
              "      <td>0.20</td>\n",
              "      <td>0.58</td>\n",
              "      <td>7</td>\n",
              "      <td>1</td>\n",
              "      <td>0</td>\n",
              "      <td>0</td>\n",
              "      <td>1</td>\n",
              "      <td>11</td>\n",
              "      <td>1</td>\n",
              "      <td>1</td>\n",
              "      <td>3</td>\n",
              "      <td>1</td>\n",
              "      <td>104</td>\n",
              "      <td>1</td>\n",
              "      <td>0.37</td>\n",
              "      <td>0.54</td>\n",
              "      <td>0.29</td>\n",
              "      <td>2.00</td>\n",
              "      <td>0.60</td>\n",
              "      <td>0.90</td>\n",
              "      <td>0.10</td>\n",
              "      <td>2.00</td>\n",
              "      <td>4.00</td>\n",
              "      <td>7.00</td>\n",
              "      <td>1.00</td>\n",
              "      <td>8.00</td>\n",
              "      <td>4.00</td>\n",
              "      <td>2.00</td>\n",
              "      <td>2.00</td>\n",
              "      <td>2.00</td>\n",
              "      <td>4.00</td>\n",
              "      <td>9.00</td>\n",
              "      <td>0.00</td>\n",
              "      <td>0.00</td>\n",
              "      <td>0.00</td>\n",
              "      <td>0.00</td>\n",
              "      <td>0.00</td>\n",
              "      <td>0.00</td>\n",
              "    </tr>\n",
              "    <tr>\n",
              "      <th>4</th>\n",
              "      <td>17</td>\n",
              "      <td>0</td>\n",
              "      <td>0</td>\n",
              "      <td>2</td>\n",
              "      <td>0</td>\n",
              "      <td>1</td>\n",
              "      <td>0</td>\n",
              "      <td>1</td>\n",
              "      <td>0</td>\n",
              "      <td>0</td>\n",
              "      <td>0</td>\n",
              "      <td>0</td>\n",
              "      <td>0</td>\n",
              "      <td>0</td>\n",
              "      <td>0</td>\n",
              "      <td>0</td>\n",
              "      <td>9</td>\n",
              "      <td>1</td>\n",
              "      <td>0</td>\n",
              "      <td>0</td>\n",
              "      <td>0.70</td>\n",
              "      <td>0.60</td>\n",
              "      <td>0.84</td>\n",
              "      <td>11</td>\n",
              "      <td>1</td>\n",
              "      <td>-1</td>\n",
              "      <td>0</td>\n",
              "      <td>-1</td>\n",
              "      <td>14</td>\n",
              "      <td>1</td>\n",
              "      <td>1</td>\n",
              "      <td>2</td>\n",
              "      <td>1</td>\n",
              "      <td>82</td>\n",
              "      <td>3</td>\n",
              "      <td>0.32</td>\n",
              "      <td>0.57</td>\n",
              "      <td>0.37</td>\n",
              "      <td>2.00</td>\n",
              "      <td>0.40</td>\n",
              "      <td>0.60</td>\n",
              "      <td>0.00</td>\n",
              "      <td>2.00</td>\n",
              "      <td>2.00</td>\n",
              "      <td>6.00</td>\n",
              "      <td>3.00</td>\n",
              "      <td>10.00</td>\n",
              "      <td>2.00</td>\n",
              "      <td>12.00</td>\n",
              "      <td>3.00</td>\n",
              "      <td>1.00</td>\n",
              "      <td>1.00</td>\n",
              "      <td>3.00</td>\n",
              "      <td>0.00</td>\n",
              "      <td>0.00</td>\n",
              "      <td>0.00</td>\n",
              "      <td>1.00</td>\n",
              "      <td>1.00</td>\n",
              "      <td>0.00</td>\n",
              "    </tr>\n",
              "  </tbody>\n",
              "</table>\n",
              "</div>\n",
              "    <div class=\"colab-df-buttons\">\n",
              "\n",
              "  <div class=\"colab-df-container\">\n",
              "    <button class=\"colab-df-convert\" onclick=\"convertToInteractive('df-c4c953fe-0212-40b2-bb5d-cc767f87ee3e')\"\n",
              "            title=\"Convert this dataframe to an interactive table.\"\n",
              "            style=\"display:none;\">\n",
              "\n",
              "  <svg xmlns=\"http://www.w3.org/2000/svg\" height=\"24px\" viewBox=\"0 -960 960 960\">\n",
              "    <path d=\"M120-120v-720h720v720H120Zm60-500h600v-160H180v160Zm220 220h160v-160H400v160Zm0 220h160v-160H400v160ZM180-400h160v-160H180v160Zm440 0h160v-160H620v160ZM180-180h160v-160H180v160Zm440 0h160v-160H620v160Z\"/>\n",
              "  </svg>\n",
              "    </button>\n",
              "\n",
              "  <style>\n",
              "    .colab-df-container {\n",
              "      display:flex;\n",
              "      gap: 12px;\n",
              "    }\n",
              "\n",
              "    .colab-df-convert {\n",
              "      background-color: #E8F0FE;\n",
              "      border: none;\n",
              "      border-radius: 50%;\n",
              "      cursor: pointer;\n",
              "      display: none;\n",
              "      fill: #1967D2;\n",
              "      height: 32px;\n",
              "      padding: 0 0 0 0;\n",
              "      width: 32px;\n",
              "    }\n",
              "\n",
              "    .colab-df-convert:hover {\n",
              "      background-color: #E2EBFA;\n",
              "      box-shadow: 0px 1px 2px rgba(60, 64, 67, 0.3), 0px 1px 3px 1px rgba(60, 64, 67, 0.15);\n",
              "      fill: #174EA6;\n",
              "    }\n",
              "\n",
              "    .colab-df-buttons div {\n",
              "      margin-bottom: 4px;\n",
              "    }\n",
              "\n",
              "    [theme=dark] .colab-df-convert {\n",
              "      background-color: #3B4455;\n",
              "      fill: #D2E3FC;\n",
              "    }\n",
              "\n",
              "    [theme=dark] .colab-df-convert:hover {\n",
              "      background-color: #434B5C;\n",
              "      box-shadow: 0px 1px 3px 1px rgba(0, 0, 0, 0.15);\n",
              "      filter: drop-shadow(0px 1px 2px rgba(0, 0, 0, 0.3));\n",
              "      fill: #FFFFFF;\n",
              "    }\n",
              "  </style>\n",
              "\n",
              "    <script>\n",
              "      const buttonEl =\n",
              "        document.querySelector('#df-c4c953fe-0212-40b2-bb5d-cc767f87ee3e button.colab-df-convert');\n",
              "      buttonEl.style.display =\n",
              "        google.colab.kernel.accessAllowed ? 'block' : 'none';\n",
              "\n",
              "      async function convertToInteractive(key) {\n",
              "        const element = document.querySelector('#df-c4c953fe-0212-40b2-bb5d-cc767f87ee3e');\n",
              "        const dataTable =\n",
              "          await google.colab.kernel.invokeFunction('convertToInteractive',\n",
              "                                                    [key], {});\n",
              "        if (!dataTable) return;\n",
              "\n",
              "        const docLinkHtml = 'Like what you see? Visit the ' +\n",
              "          '<a target=\"_blank\" href=https://colab.research.google.com/notebooks/data_table.ipynb>data table notebook</a>'\n",
              "          + ' to learn more about interactive tables.';\n",
              "        element.innerHTML = '';\n",
              "        dataTable['output_type'] = 'display_data';\n",
              "        await google.colab.output.renderOutput(dataTable, element);\n",
              "        const docLink = document.createElement('div');\n",
              "        docLink.innerHTML = docLinkHtml;\n",
              "        element.appendChild(docLink);\n",
              "      }\n",
              "    </script>\n",
              "  </div>\n",
              "\n",
              "\n",
              "<div id=\"df-d43b3d51-6179-4856-b13b-7a2dc4ee2fd4\">\n",
              "  <button class=\"colab-df-quickchart\" onclick=\"quickchart('df-d43b3d51-6179-4856-b13b-7a2dc4ee2fd4')\"\n",
              "            title=\"Suggest charts\"\n",
              "            style=\"display:none;\">\n",
              "\n",
              "<svg xmlns=\"http://www.w3.org/2000/svg\" height=\"24px\"viewBox=\"0 0 24 24\"\n",
              "     width=\"24px\">\n",
              "    <g>\n",
              "        <path d=\"M19 3H5c-1.1 0-2 .9-2 2v14c0 1.1.9 2 2 2h14c1.1 0 2-.9 2-2V5c0-1.1-.9-2-2-2zM9 17H7v-7h2v7zm4 0h-2V7h2v10zm4 0h-2v-4h2v4z\"/>\n",
              "    </g>\n",
              "</svg>\n",
              "  </button>\n",
              "\n",
              "<style>\n",
              "  .colab-df-quickchart {\n",
              "      --bg-color: #E8F0FE;\n",
              "      --fill-color: #1967D2;\n",
              "      --hover-bg-color: #E2EBFA;\n",
              "      --hover-fill-color: #174EA6;\n",
              "      --disabled-fill-color: #AAA;\n",
              "      --disabled-bg-color: #DDD;\n",
              "  }\n",
              "\n",
              "  [theme=dark] .colab-df-quickchart {\n",
              "      --bg-color: #3B4455;\n",
              "      --fill-color: #D2E3FC;\n",
              "      --hover-bg-color: #434B5C;\n",
              "      --hover-fill-color: #FFFFFF;\n",
              "      --disabled-bg-color: #3B4455;\n",
              "      --disabled-fill-color: #666;\n",
              "  }\n",
              "\n",
              "  .colab-df-quickchart {\n",
              "    background-color: var(--bg-color);\n",
              "    border: none;\n",
              "    border-radius: 50%;\n",
              "    cursor: pointer;\n",
              "    display: none;\n",
              "    fill: var(--fill-color);\n",
              "    height: 32px;\n",
              "    padding: 0;\n",
              "    width: 32px;\n",
              "  }\n",
              "\n",
              "  .colab-df-quickchart:hover {\n",
              "    background-color: var(--hover-bg-color);\n",
              "    box-shadow: 0 1px 2px rgba(60, 64, 67, 0.3), 0 1px 3px 1px rgba(60, 64, 67, 0.15);\n",
              "    fill: var(--button-hover-fill-color);\n",
              "  }\n",
              "\n",
              "  .colab-df-quickchart-complete:disabled,\n",
              "  .colab-df-quickchart-complete:disabled:hover {\n",
              "    background-color: var(--disabled-bg-color);\n",
              "    fill: var(--disabled-fill-color);\n",
              "    box-shadow: none;\n",
              "  }\n",
              "\n",
              "  .colab-df-spinner {\n",
              "    border: 2px solid var(--fill-color);\n",
              "    border-color: transparent;\n",
              "    border-bottom-color: var(--fill-color);\n",
              "    animation:\n",
              "      spin 1s steps(1) infinite;\n",
              "  }\n",
              "\n",
              "  @keyframes spin {\n",
              "    0% {\n",
              "      border-color: transparent;\n",
              "      border-bottom-color: var(--fill-color);\n",
              "      border-left-color: var(--fill-color);\n",
              "    }\n",
              "    20% {\n",
              "      border-color: transparent;\n",
              "      border-left-color: var(--fill-color);\n",
              "      border-top-color: var(--fill-color);\n",
              "    }\n",
              "    30% {\n",
              "      border-color: transparent;\n",
              "      border-left-color: var(--fill-color);\n",
              "      border-top-color: var(--fill-color);\n",
              "      border-right-color: var(--fill-color);\n",
              "    }\n",
              "    40% {\n",
              "      border-color: transparent;\n",
              "      border-right-color: var(--fill-color);\n",
              "      border-top-color: var(--fill-color);\n",
              "    }\n",
              "    60% {\n",
              "      border-color: transparent;\n",
              "      border-right-color: var(--fill-color);\n",
              "    }\n",
              "    80% {\n",
              "      border-color: transparent;\n",
              "      border-right-color: var(--fill-color);\n",
              "      border-bottom-color: var(--fill-color);\n",
              "    }\n",
              "    90% {\n",
              "      border-color: transparent;\n",
              "      border-bottom-color: var(--fill-color);\n",
              "    }\n",
              "  }\n",
              "</style>\n",
              "\n",
              "  <script>\n",
              "    async function quickchart(key) {\n",
              "      const quickchartButtonEl =\n",
              "        document.querySelector('#' + key + ' button');\n",
              "      quickchartButtonEl.disabled = true;  // To prevent multiple clicks.\n",
              "      quickchartButtonEl.classList.add('colab-df-spinner');\n",
              "      try {\n",
              "        const charts = await google.colab.kernel.invokeFunction(\n",
              "            'suggestCharts', [key], {});\n",
              "      } catch (error) {\n",
              "        console.error('Error during call to suggestCharts:', error);\n",
              "      }\n",
              "      quickchartButtonEl.classList.remove('colab-df-spinner');\n",
              "      quickchartButtonEl.classList.add('colab-df-quickchart-complete');\n",
              "    }\n",
              "    (() => {\n",
              "      let quickchartButtonEl =\n",
              "        document.querySelector('#df-d43b3d51-6179-4856-b13b-7a2dc4ee2fd4 button');\n",
              "      quickchartButtonEl.style.display =\n",
              "        google.colab.kernel.accessAllowed ? 'block' : 'none';\n",
              "    })();\n",
              "  </script>\n",
              "</div>\n",
              "\n",
              "    </div>\n",
              "  </div>\n"
            ],
            "application/vnd.google.colaboratory.intrinsic+json": {
              "type": "dataframe",
              "variable_name": "df"
            }
          },
          "metadata": {},
          "execution_count": 6
        }
      ],
      "source": [
        "df = pd.read_csv(r'train.csv')\n",
        "df1= df.copy()\n",
        "df.head()"
      ]
    },
    {
      "cell_type": "code",
      "execution_count": 7,
      "metadata": {
        "id": "0BIOS37hSMps"
      },
      "outputs": [],
      "source": [
        "temp = df[:200000]\n",
        "_X = temp.drop(['id','target'],axis =1)\n",
        "_y=temp.target\n",
        "metadata_matrix_dataframe = get_meta_data(df)\n",
        "metadata_matrix_dataframe[\"dt_name\"] =[ i.split(\"_\")[-1] for i in metadata_matrix_dataframe.index.values]\n",
        "metadata_matrix_dataframe['dt_name'] = metadata_matrix_dataframe['dt_name'].apply(lambda x : \"interval\" if str(x).isnumeric() else x)"
      ]
    },
    {
      "cell_type": "code",
      "execution_count": 8,
      "metadata": {
        "id": "oD5w7qTXSMpt"
      },
      "outputs": [],
      "source": [
        "Dtype = metadata_matrix_dataframe.groupby(['dt_name'])\n",
        "\n",
        "interval_feature =Dtype.get_group(\"interval\").index.tolist()\n",
        "bin_feature = Dtype.get_group(\"bin\").index.tolist()\n",
        "cat_feature = Dtype.get_group(\"cat\").index.tolist()"
      ]
    },
    {
      "cell_type": "markdown",
      "metadata": {
        "id": "mWIWfafdSMpt"
      },
      "source": [
        "**1. Write at least 3 important inferences from the data above**\n",
        "\n",
        "**Ans.:**\n",
        "\n",
        "1. Data is higly imblaced, target distribtion is:\n",
        "    >0 = 96.36 %\n",
        "    \n",
        "    >1 = 3.64 %\n",
        "    \n",
        "2. data have vaiable type:\n",
        "    > Interval = 45.6\n",
        "    \n",
        "    > binary =29.8\n",
        "    \n",
        "    > categorical = 24.6\n",
        "\n",
        "3. Most of the features are uncorrelated\n",
        "    "
      ]
    },
    {
      "cell_type": "markdown",
      "metadata": {
        "id": "bgpn3FQBSMpt"
      },
      "source": [
        "**2. Is the data balanced? Meaning are targets 0 and 1 in the right proportion?**\n",
        "\n",
        "**Ans.:** No, data not balanced. I shown below."
      ]
    },
    {
      "cell_type": "code",
      "execution_count": 9,
      "metadata": {
        "colab": {
          "base_uri": "https://localhost:8080/",
          "height": 558
        },
        "id": "o_WJLvLTSMpu",
        "outputId": "f84d4a3b-0d5e-4352-f106-7089727d34c2"
      },
      "outputs": [
        {
          "output_type": "stream",
          "name": "stdout",
          "text": [
            "Percentge distribution of class '1' & class '0':\n",
            "\n",
            " target\n",
            "0                  96.33\n",
            "1                   3.67\n",
            "Name: count, dtype: float64\n"
          ]
        },
        {
          "output_type": "display_data",
          "data": {
            "text/plain": [
              "<Figure size 640x480 with 1 Axes>"
            ],
            "image/png": "[encoded data removed]"
          },
          "metadata": {}
        }
      ],
      "source": [
        "perc = (df['target'].value_counts()/(df.shape[0]))*100\n",
        "print(\"Percentge distribution of class '1' & class '0':\\n\\n\",perc)\n",
        "perc.plot.bar();"
      ]
    },
    {
      "cell_type": "markdown",
      "metadata": {
        "id": "kg1xwm6oSMpu"
      },
      "source": [
        "**3. How many categorical features are there?**"
      ]
    },
    {
      "cell_type": "code",
      "execution_count": 10,
      "metadata": {
        "colab": {
          "base_uri": "https://localhost:8080/"
        },
        "id": "tFzp5JUrSMpu",
        "outputId": "dd98d8e1-8a20-4a72-ffe3-6eaeb4794d97"
      },
      "outputs": [
        {
          "output_type": "stream",
          "name": "stdout",
          "text": [
            "categorical features count: 50\n"
          ]
        }
      ],
      "source": [
        "group_variable_type = metadata_matrix_dataframe.groupby('Variable_Type')\n",
        "print(\"categorical features count:\",group_variable_type.get_group('Categorical').shape[0])"
      ]
    },
    {
      "cell_type": "markdown",
      "metadata": {
        "id": "XmW0lug7SMpv"
      },
      "source": [
        "**5. Write inferences from data on interval variables**"
      ]
    },
    {
      "cell_type": "code",
      "execution_count": 11,
      "metadata": {
        "colab": {
          "base_uri": "https://localhost:8080/",
          "height": 699
        },
        "id": "KeMABWUBSMpv",
        "outputId": "c13bc5fc-3e40-4681-839f-57430c95c13a"
      },
      "outputs": [
        {
          "output_type": "display_data",
          "data": {
            "text/plain": [
              "<Figure size 1200x1000 with 2 Axes>"
            ],
            "image/png": "[encoded data removed]"
          },
          "metadata": {}
        }
      ],
      "source": [
        "temp = df[interval_feature].corr()\n",
        "temp = temp[(temp>=0.5) | (temp<=-0.5)].fillna(0)\n",
        "fig, ax = plt.subplots(figsize=(12,10))\n",
        "sns.heatmap(temp,linewidths=.5, cmap=\"YlGnBu\",ax=ax)\n",
        "plt.show()"
      ]
    },
    {
      "cell_type": "code",
      "execution_count": 12,
      "metadata": {
        "colab": {
          "base_uri": "https://localhost:8080/",
          "height": 80
        },
        "id": "Ez2GHjV2SMpv",
        "outputId": "27971484-e39d-4a97-a903-944865ce273a"
      },
      "outputs": [
        {
          "output_type": "display_data",
          "data": {
            "text/plain": [
              "<IPython.core.display.Markdown object>"
            ],
            "text/markdown": "> <span style='color:blue'>Analysis : Almost all the features are independent, Looking at above plot only 3 features are correlated with correlation near 0.5.</span>"
          },
          "metadata": {}
        }
      ],
      "source": [
        "log(\"Analysis : Almost all the features are independent, Looking at above plot only 3 features are correlated with correlation near 0.5.\")"
      ]
    },
    {
      "cell_type": "markdown",
      "metadata": {
        "id": "qeolHyhCSMpw"
      },
      "source": [
        "**6. Write inferences from data on ordinal variables.**"
      ]
    },
    {
      "cell_type": "code",
      "execution_count": 13,
      "metadata": {
        "colab": {
          "base_uri": "https://localhost:8080/",
          "height": 454
        },
        "id": "QPm7ppg4SMpw",
        "outputId": "f9781ab9-9a9d-4148-b048-54274de34d5f"
      },
      "outputs": [
        {
          "output_type": "display_data",
          "data": {
            "text/plain": [
              "<Figure size 1600x800 with 1 Axes>"
            ],
            "image/png": "[encoded data removed]"
          },
          "metadata": {}
        }
      ],
      "source": [
        "d ={}\n",
        "for i in df[cat_feature].columns:\n",
        "    d[i] = df[cat_feature][i].nunique()\n",
        "\n",
        "pd.DataFrame(d,index=['unique values']).T.plot.bar(figsize=(16,8));"
      ]
    },
    {
      "cell_type": "code",
      "execution_count": 14,
      "metadata": {
        "colab": {
          "base_uri": "https://localhost:8080/",
          "height": 62
        },
        "id": "mi1sSR0cSMpw",
        "outputId": "bd362810-7d24-4f98-ea86-8f00b713edcd"
      },
      "outputs": [
        {
          "output_type": "display_data",
          "data": {
            "text/plain": [
              "<IPython.core.display.Markdown object>"
            ],
            "text/markdown": "> <span style='color:blue'>Analysis : Looking at above graph only one feature have unqiue values more than 20</span>"
          },
          "metadata": {}
        }
      ],
      "source": [
        "log(\"Analysis : Looking at above graph only one feature have unqiue values more than 20\")"
      ]
    },
    {
      "cell_type": "markdown",
      "metadata": {
        "id": "THrwvdgGSMpw"
      },
      "source": [
        "**7. Write inferences from data on binary variables.**"
      ]
    },
    {
      "cell_type": "code",
      "execution_count": 15,
      "metadata": {
        "colab": {
          "base_uri": "https://localhost:8080/",
          "height": 523
        },
        "id": "e3AILWb-SMpx",
        "outputId": "1d3e1317-a9ed-49ae-df41-ba4b64756293"
      },
      "outputs": [
        {
          "output_type": "display_data",
          "data": {
            "text/plain": [
              "<IPython.core.display.Markdown object>"
            ],
            "text/markdown": "> <span style='color:blue'>Analysis : Looking at above graph % of 1's is near near for *ps_ind_10_bin, ps_ind_11_bin, ps_ind_12_bin, ps_ind_13_bin.</span>"
          },
          "metadata": {}
        },
        {
          "output_type": "display_data",
          "data": {
            "text/plain": [
              "<Figure size 1600x800 with 1 Axes>"
            ],
            "image/png": "[encoded data removed]"
          },
          "metadata": {}
        }
      ],
      "source": [
        "col = metadata_matrix_dataframe[metadata_matrix_dataframe['Unique_Values_Count'] == 2].index\n",
        "df_1 = pd.DataFrame((df[col].sum()/df[col].shape[0])*100, columns=['Percentage of 1'])\n",
        "df_1.plot.bar(figsize=(16,8));\n",
        "log(\"Analysis : Looking at above graph % of 1's is near near for *ps_ind_10_bin, ps_ind_11_bin, ps_ind_12_bin, ps_ind_13_bin.\");"
      ]
    },
    {
      "cell_type": "markdown",
      "metadata": {
        "id": "TSt30d9LSMpx"
      },
      "source": [
        "#### 11. Which are the top two features in terms of missing values?\n",
        "\n",
        "> No Missing Value Found.\n",
        "\n",
        "#### 12. In total, how many features have missing values?\n",
        "\n",
        "> No Feature having missing values\n",
        "\n",
        "#### 13. What steps should be taken to handle the missing data?\n",
        "\n",
        "> **NA**"
      ]
    },
    {
      "cell_type": "markdown",
      "metadata": {
        "id": "wbWPQZGjSMpx"
      },
      "source": [
        "#### 8. Check if the target data is proportionate or not. Hint: Below than 30% for binary data is sign of imbalance"
      ]
    },
    {
      "cell_type": "code",
      "execution_count": 16,
      "metadata": {
        "colab": {
          "base_uri": "https://localhost:8080/",
          "height": 527
        },
        "id": "zmfCW2-2SMpx",
        "outputId": "67a3a78f-4e79-4497-d83e-06ea9e002575"
      },
      "outputs": [
        {
          "output_type": "stream",
          "name": "stdout",
          "text": [
            "Target=1 shape: (3401, 59) 3.67 % \n",
            "Target=0 shape: (89174, 59) 96.33 %\n",
            "\n",
            " # This Data shows that it's imbalanced\n"
          ]
        },
        {
          "output_type": "display_data",
          "data": {
            "text/plain": [
              "<Figure size 640x480 with 1 Axes>"
            ],
            "image/png": "[encoded data removed]"
          },
          "metadata": {}
        }
      ],
      "source": [
        "Per1= np.round((df[df['target']==1].shape[0]*100)/ df.shape[0],2)\n",
        "Per0= np.round((df[df['target']==0].shape[0]*100)/ df.shape[0],2)\n",
        "\n",
        "print('Target=1 shape:',df[df['target']==1].shape, Per1,'%','\\nTarget=0 shape:',df[df['target']==0].shape,Per0,'%')\n",
        "print(\"\\n # This Data shows that it's imbalanced\")\n",
        "sns.countplot(x= df['target'])\n",
        "plt.show()"
      ]
    },
    {
      "cell_type": "markdown",
      "metadata": {
        "id": "rc8T6UJ_SMpy"
      },
      "source": [
        "**9. What should be the preferred way in this case to balance the data?**\n",
        "\n",
        "> The most popular solution to an imbalanced classification problem is to change the composition of the training dataset.Techniques designed to change the class distribution in the training dataset are generally referred to as sampling methods or resampling methods as we are sampling an existing data sample.\n",
        "\n"
      ]
    },
    {
      "cell_type": "markdown",
      "metadata": {
        "id": "PtPK0E4nSMpz"
      },
      "source": [
        "**10. How many training records are there after achieving a balance of 12%?**"
      ]
    },
    {
      "cell_type": "code",
      "execution_count": 17,
      "metadata": {
        "colab": {
          "base_uri": "https://localhost:8080/"
        },
        "id": "chcBtRZWSMpz",
        "outputId": "e9a6f66d-da25-49b0-ee12-bffe0ed55525"
      },
      "outputs": [
        {
          "output_type": "stream",
          "name": "stdout",
          "text": [
            "Size of data, after achieving a balance of 12%:  99874\n"
          ]
        }
      ],
      "source": [
        "# using resampling technique, splittinf data into classes\n",
        "df_mino= df[df['target']==1]\n",
        "df_majo= df[df['target']==0]\n",
        "df_mino_upsampled = resample(df_mino,replace=True,n_samples=int(len(df_majo)*0.12), random_state = 42)\n",
        "\n",
        "print(\"Size of data, after achieving a balance of 12%: \", df_mino_upsampled.shape[0] + df_majo.shape[0])"
      ]
    },
    {
      "cell_type": "markdown",
      "metadata": {
        "id": "RjYFI639SMpz"
      },
      "source": [
        "### Applying Resampling to make balance data-set"
      ]
    },
    {
      "cell_type": "code",
      "execution_count": 18,
      "metadata": {
        "colab": {
          "base_uri": "https://localhost:8080/",
          "height": 539
        },
        "id": "oGnknfeLSMp0",
        "outputId": "25d9ff70-5ffb-424a-a008-d4eee9b073dc"
      },
      "outputs": [
        {
          "output_type": "stream",
          "name": "stdout",
          "text": [
            "Class compostion after resampling:\n",
            "target\n",
            "0    89174\n",
            "1    89174\n",
            "Name: count, dtype: int64\n"
          ]
        },
        {
          "output_type": "display_data",
          "data": {
            "text/plain": [
              "<Figure size 640x480 with 1 Axes>"
            ],
            "image/png": "[encoded data removed]"
          },
          "metadata": {}
        }
      ],
      "source": [
        "df_mino_upsampled = resample(df_mino,replace=True,n_samples=len(df_majo), random_state = 42)\n",
        "df = pd.concat([df_majo,df_mino_upsampled])\n",
        "print(\"Class compostion after resampling:\")\n",
        "print(df['target'].value_counts())\n",
        "df['target'].value_counts().plot.bar();"
      ]
    },
    {
      "cell_type": "markdown",
      "metadata": {
        "id": "xNiI7Zt_SMp0"
      },
      "source": [
        ">Now here we have both class with equall count"
      ]
    },
    {
      "cell_type": "markdown",
      "metadata": {
        "id": "wT_dxdAXSMp1"
      },
      "source": [
        "#### 14. Which interval variables have strong correlation?"
      ]
    },
    {
      "cell_type": "code",
      "execution_count": 19,
      "metadata": {
        "colab": {
          "base_uri": "https://localhost:8080/",
          "height": 699
        },
        "id": "ITGo0ch2SMp1",
        "outputId": "41a9c30d-d6ad-4fc7-c570-fd0771c6b10a"
      },
      "outputs": [
        {
          "output_type": "display_data",
          "data": {
            "text/plain": [
              "<Figure size 1200x1000 with 2 Axes>"
            ],
            "image/png": "[encoded data removed]"
          },
          "metadata": {}
        }
      ],
      "source": [
        "temp = df[interval_feature].corr()\n",
        "temp = temp[(temp>=0.5) | (temp<=-0.5)].fillna(0)\n",
        "fig, ax = plt.subplots(figsize=(12,10))\n",
        "sns.heatmap(temp,linewidths=.5, cmap=\"YlGnBu\",ax=ax)\n",
        "plt.show()"
      ]
    },
    {
      "cell_type": "markdown",
      "metadata": {
        "id": "wJo_c-XhSMp3"
      },
      "source": [
        "> interval Variable with high correlation(abs value more than 0.5)\n",
        "1. ps_reg_03 --> ps_reg_03 & ps_reg_03\n",
        "2. ps_reg_13 --> ps_reg_12"
      ]
    },
    {
      "cell_type": "markdown",
      "metadata": {
        "id": "JRqPodVgSMp3"
      },
      "source": [
        "#### 15. What's the level of correlation among ordinal features?"
      ]
    },
    {
      "cell_type": "code",
      "execution_count": 20,
      "metadata": {
        "colab": {
          "base_uri": "https://localhost:8080/",
          "height": 803
        },
        "id": "_U2GC2BpSMp3",
        "outputId": "a64e5618-e688-4dee-d439-3f1230304131"
      },
      "outputs": [
        {
          "output_type": "display_data",
          "data": {
            "text/plain": [
              "<Figure size 1000x1000 with 2 Axes>"
            ],
            "image/png": "[encoded data removed]"
          },
          "metadata": {}
        }
      ],
      "source": [
        "# cutoff = 0.3\n",
        "temp = df[cat_feature].corr()\n",
        "temp = temp[(temp>=0.3) | (temp<=-0.3)].fillna(0)\n",
        "fig, ax = plt.subplots(figsize=(10,10))\n",
        "sns.heatmap(temp,linewidths=.3, cmap=\"YlGnBu\",ax=ax)\n",
        "plt.show()"
      ]
    },
    {
      "cell_type": "markdown",
      "metadata": {
        "id": "ft9n5J_YSMp4"
      },
      "source": [
        "> ordinal Variable with high correlation(abs value more than 0.5)\n",
        "1. ps_car_03_cat --> ps_car_05_cat\n",
        "2. ps_car_05_cat --> ps_car_09_cat"
      ]
    },
    {
      "cell_type": "markdown",
      "metadata": {
        "id": "Vx8r9z7rSMp4"
      },
      "source": [
        "#### 16. Implement Hot Encoding for categorical features\n",
        "\n",
        "**NA**\n",
        "> No, nominal Features are available\n",
        "\n",
        "#### 17. In nominal and interval features, which features are suitable for StandardScaler?\n",
        "\n",
        ">Nominal featues are not suitable for StandardScaler\n",
        "\n",
        ">We can apply StandardScaler in interval features"
      ]
    },
    {
      "cell_type": "code",
      "execution_count": 21,
      "metadata": {
        "id": "opb-eD7dSMp4"
      },
      "outputs": [],
      "source": [
        "clf=RandomForestClassifier(n_estimators=100)\n",
        "clf.fit(_X,_y)\n",
        "\n",
        "feature_imp = pd.Series(clf.feature_importances_,index=_X.columns).sort_values(ascending=False)\n",
        "imp = pd.DataFrame(feature_imp).reset_index()\n",
        "imp.columns = [\"Features\", 'Imp']\n",
        "\n",
        "imp['Imp'] = (imp['Imp']/max(imp['Imp']))*100\n",
        "col = imp[imp[\"Imp\"]>25]['Features'].tolist()"
      ]
    },
    {
      "cell_type": "code",
      "execution_count": 22,
      "metadata": {
        "colab": {
          "base_uri": "https://localhost:8080/",
          "height": 301
        },
        "id": "T-PfMv7XSMp5",
        "outputId": "a4adef77-bbc5-47f6-f5bc-19f658ff5e76"
      },
      "outputs": [
        {
          "output_type": "display_data",
          "data": {
            "text/plain": [
              "<Figure size 2000x700 with 1 Axes>"
            ],
            "image/png": "[encoded data removed]"
          },
          "metadata": {}
        }
      ],
      "source": [
        "\n",
        "# Creating a bar plot\n",
        "plt.figure(figsize = (20,7))\n",
        "sns.barplot(x=_X.columns, y=imp.Imp)\n",
        "plt.xlabel('Feature Importance Score')\n",
        "plt.ylabel('Features')\n",
        "plt.title(\"Visualizing Important Features\")\n",
        "plt.show()"
      ]
    },
    {
      "cell_type": "code",
      "execution_count": 23,
      "metadata": {
        "colab": {
          "base_uri": "https://localhost:8080/"
        },
        "id": "7dVRqy8mSMp5",
        "outputId": "6f85152d-b995-4544-b0c8-dd83f329032d"
      },
      "outputs": [
        {
          "output_type": "stream",
          "name": "stdout",
          "text": [
            "Top 10 ordered important features\n",
            "0        ps_car_13\n",
            "1        ps_reg_03\n",
            "2        ps_car_14\n",
            "3       ps_calc_14\n",
            "4       ps_calc_10\n",
            "5       ps_calc_11\n",
            "6    ps_car_11_cat\n",
            "7        ps_ind_15\n",
            "8        ps_ind_03\n",
            "9       ps_calc_02\n",
            "Name: Features, dtype: object\n"
          ]
        }
      ],
      "source": [
        "print(\"Top 10 ordered important features\")\n",
        "print(imp[:10].Features);"
      ]
    },
    {
      "cell_type": "markdown",
      "metadata": {
        "id": "M-JEgKEMSMp5"
      },
      "source": [
        "#### 18. Summarize the learnings of ED\n",
        "\n",
        "1. Data is higly imblaced, target distribtion is:\n",
        "    >0 = 96.36 %\n",
        "    \n",
        "    >1 = 3.64 %\n",
        "    \n",
        "2 Most of the features are uncorrelated\n",
        "\n",
        "3. Top 10 ordered important features\n",
        "\n",
        "> 1.    ps_car_13    \n",
        "\n",
        "> 2.    ps_reg_03    \n",
        "\n",
        "> 3.    ps_car_14    \n",
        "\n",
        "> 4.    ps_calc_10   \n",
        "\n",
        "> 5.    ps_calc_14   \n",
        "\n",
        "> 6.    ps_calc_11   \n",
        "\n",
        "> 7.    ps_car_11_cat\n",
        "\n",
        "> 8.    ps_ind_15    \n",
        "\n",
        "> 9.    ps_ind_03    \n",
        "\n",
        "> 10.    ps_calc_01\n"
      ]
    },
    {
      "cell_type": "markdown",
      "metadata": {
        "id": "EjmxHh_HSMp6"
      },
      "source": [
        "### Spliting data in feature & target"
      ]
    },
    {
      "cell_type": "code",
      "execution_count": 24,
      "metadata": {
        "id": "v4qGxYdiSMp6"
      },
      "outputs": [],
      "source": [
        "x= df.drop(['target','id'], axis=1)\n",
        "y= df['target']"
      ]
    },
    {
      "cell_type": "markdown",
      "metadata": {
        "id": "y4Hi9HESSMp6"
      },
      "source": [
        "###  Spliting data in train test\n",
        "> using 70 percentage for training and 30 percentage for testing"
      ]
    },
    {
      "cell_type": "code",
      "execution_count": 25,
      "metadata": {
        "id": "AYE0Ug-SSMp6"
      },
      "outputs": [],
      "source": [
        "from sklearn.model_selection import train_test_split as tts\n",
        "X_train,X_test,y_train,y_test = tts(x, y, test_size = 0.3,random_state = 1)"
      ]
    },
    {
      "cell_type": "markdown",
      "metadata": {
        "id": "KHCjNo-ySMp7"
      },
      "source": [
        "### Feature Scaling"
      ]
    },
    {
      "cell_type": "code",
      "execution_count": 26,
      "metadata": {
        "id": "VeRO6CoSSMp7"
      },
      "outputs": [],
      "source": [
        "from sklearn.preprocessing import StandardScaler\n",
        "scaler = StandardScaler()\n",
        "# Fit only to the training data\n",
        "scaler.fit(X_train)\n",
        "# Now apply the transformations to the data:\n",
        "X_train = scaler.transform(X_train)\n",
        "X_test = scaler.transform(X_test)"
      ]
    },
    {
      "cell_type": "markdown",
      "metadata": {
        "id": "2c4GCKHgSMp7"
      },
      "source": [
        "### Logistic Regression (Before Resampling)"
      ]
    },
    {
      "cell_type": "code",
      "execution_count": 31,
      "metadata": {
        "id": "ojiNEUtdSMp7"
      },
      "outputs": [],
      "source": [
        "import pandas as pd\n",
        "from sklearn.model_selection import train_test_split as tts\n",
        "from sklearn.linear_model import LogisticRegression\n",
        "from sklearn.impute import SimpleImputer\n",
        "\n",
        "# Assuming df1 is your dataframe\n",
        "\n",
        "# 1. Imputation: Replace NaN with a specific value (e.g., mean, median, or a constant).\n",
        "imputer = SimpleImputer(strategy='mean')  # You can change the strategy\n",
        "x_ = df1.drop(['target', 'id'], axis=1)\n",
        "x_ = pd.DataFrame(imputer.fit_transform(x_), columns=x_.columns) # Fit and transform on x_\n",
        "y_ = df1['target']\n",
        "\n",
        "# 2. Split data after handling missing values\n",
        "X_Train, X_Test, y_Train, y_Test = tts(x_, y_, test_size=0.3, random_state=1)\n",
        "\n"
      ]
    },
    {
      "cell_type": "markdown",
      "metadata": {
        "id": "z3tTScVMSMp8"
      },
      "source": [
        "### Modeling Questions and their Answers\n",
        "#### Q. The Simple Logistic Regression Model seems to have high accuracy. Is that what we need at all? What is the problem with this model?\n",
        "Ans.: Simple Logistic Regression Model seems to have high accuracy because of highly imbalanced data. When we use accuracy, we assign equal cost to false positives and false negatives. When that data set is imbalanced - say it has 96% of instances in one class and only 4 % in the other - there is a great way to lower the cost. Predict that every instance belongs to the majority class, get accuracy of 96% which is very high accuracy.\n",
        "\n",
        "> Accuracy = (correct classifications / number of classifications)\n",
        "\n",
        "#### Q. Why do you think f1-score is 0.0?\n",
        "**Ans.:** In this model, the Precision and Recall both are Zero due to which F1 score also become zero.\n",
        "\n",
        "#### Q. What is the precision and recall score for the model?\n",
        "**Ans.:** In this model, the Precision and Recall both are Zero"
      ]
    },
    {
      "cell_type": "markdown",
      "metadata": {
        "id": "dqvi7kOlSMp8"
      },
      "source": [
        "### Logistic Regression (After Resampling)\n",
        "\n",
        "#### 1. Fitting a Logistic Regression"
      ]
    },
    {
      "cell_type": "code",
      "execution_count": 32,
      "metadata": {
        "id": "AWL2wr_GSMp8"
      },
      "outputs": [],
      "source": [
        "# Proceed with model training\n",
        "log_reg = LogisticRegression()\n",
        "log_reg.fit(X_Train, y_Train)\n",
        "\n",
        "y_pred_logreg1 = log_reg.predict(X_Test)\n",
        "\n",
        "# Assuming accuracy_result is your function to calculate accuracy\n",
        "# accuracy_result(y_Test, y_pred_logreg1)"
      ]
    },
    {
      "cell_type": "markdown",
      "metadata": {
        "id": "1jp71E5SSMp9"
      },
      "source": [
        "### Logistic Regression (After Resampling)\n"
      ]
    },
    {
      "cell_type": "code",
      "execution_count": 36,
      "metadata": {
        "id": "b-QrSx_qSMp9"
      },
      "outputs": [],
      "source": [
        "\n",
        "# 1. Create an imputer to replace NaN values with the mean of the column\n",
        "imputer = SimpleImputer(strategy='mean')  # You can use other strategies like 'median' or 'most_frequent'\n",
        "\n",
        "# 2. Fit the imputer on your training data and transform it\n",
        "X_train_imputed = imputer.fit_transform(X_train)\n",
        "\n",
        "# 3. Now, you can use the imputed data for training your model\n",
        "log_reg = LogisticRegression()\n",
        "log_reg.fit(X_train_imputed, y_train)\n",
        "\n",
        "# Remember to apply the same imputation to your test data before prediction:\n",
        "X_test_imputed = imputer.transform(X_test)\n",
        "y_pred_logreg2 = log_reg.predict(X_test_imputed)\n"
      ]
    },
    {
      "cell_type": "markdown",
      "metadata": {
        "id": "E9uSGD7ESMp9"
      },
      "source": [
        "**Q. What is the accuracy score and f1-score for the improved Logistic Regression model?**\n",
        "\n",
        "**Q. Why do you think f1-score has improved?**\n",
        "\n",
        "**Ans.:**\n",
        "\n",
        "**Logistic regression model (Before Resampling)**\n",
        "* Accurecy = 0.964\n",
        "* F1 score = 0.0  \n",
        "\n",
        "**Logistic regression model (After Resampling)**\n",
        "* Accurecy = 0.589\n",
        "* F1 score = 0.573\n",
        "\n",
        "In above given data after resampling the F1 score is 0.573 which is improved F1 score in compare to previous score and it shows improved logistic regression model."
      ]
    },
    {
      "cell_type": "markdown",
      "metadata": {
        "id": "96-02JqASMp-"
      },
      "source": [
        "### Support Vector Classifier"
      ]
    },
    {
      "cell_type": "code",
      "execution_count": 37,
      "metadata": {
        "colab": {
          "base_uri": "https://localhost:8080/"
        },
        "id": "RzeBmax9SMp-",
        "outputId": "b962460d-6b44-418f-c9ca-c957b30239fc"
      },
      "outputs": [
        {
          "output_type": "stream",
          "name": "stdout",
          "text": [
            "\n",
            " CONFUSION MATRIX:\n",
            "  [[17223  9653]\n",
            " [12480 14149]] \n",
            "\n",
            "FPR:  0.359\n",
            "TPR/ RECALL/ SENSTIVITY:  0.531\n",
            "PRECISION: 0.594\n",
            "SPECIFICITY:  0.641\n",
            "ACCURACY:  0.586\n",
            "ROC AUC:  0.586\n",
            "Cohens kappa:  0.172\n",
            "F1 score:  0.561\n",
            "\n",
            " CLASSIFICATION REPORT: \n",
            "               precision    recall  f1-score   support\n",
            "\n",
            "           0       0.58      0.64      0.61     26876\n",
            "           1       0.59      0.53      0.56     26629\n",
            "\n",
            "    accuracy                           0.59     53505\n",
            "   macro avg       0.59      0.59      0.58     53505\n",
            "weighted avg       0.59      0.59      0.59     53505\n",
            "\n"
          ]
        }
      ],
      "source": [
        "x_tr=X_train[:10000,:]\n",
        "y_tr=y_train[:10000]\n",
        "\n",
        "## 1. svm Classifier with linear kernel\n",
        "\n",
        "#Create a svm Classifier\n",
        "clf = svm.SVC(kernel='linear')\n",
        "# FIT SVC ON TRAINING DATA\n",
        "clf.fit(x_tr, y_tr)\n",
        "\n",
        "## 2. Predicting on Train and test data\n",
        "\n",
        "# y_pred_train = clf.predict(X_train)\n",
        "y_pred_svc = clf.predict(X_test)\n",
        "\n",
        "#  model output\n",
        "accuracy_result(y_test, y_pred_svc)"
      ]
    },
    {
      "cell_type": "markdown",
      "metadata": {
        "id": "TKU5WxnASMp-"
      },
      "source": [
        "**Q.: For model LinearSVC play with parameters – dual, max_iter and see if there is any improvement.**\n",
        "\n",
        "Ans.: Not any Significance Improvement\n",
        "    \n",
        "**Q.: SVC with Imbalance Check & Feature Optimization & only 100K Records → is there improvement in scores?**\n",
        "\n",
        "Ans.: I fitted the SVC model on 10K dataset because on 100K dataset not able to run the model."
      ]
    },
    {
      "cell_type": "markdown",
      "metadata": {
        "id": "SLXkwPfESMp-"
      },
      "source": [
        "### XGBoost Classifier"
      ]
    },
    {
      "cell_type": "code",
      "execution_count": 38,
      "metadata": {
        "colab": {
          "base_uri": "https://localhost:8080/"
        },
        "id": "7HEw7WFZSMp_",
        "outputId": "8e6538fd-75d7-4c95-ab23-7f044ebbfabc"
      },
      "outputs": [
        {
          "output_type": "stream",
          "name": "stdout",
          "text": [
            "\n",
            " CONFUSION MATRIX:\n",
            "  [[26795    81]\n",
            " [   14 26615]] \n",
            "\n",
            "FPR:  0.003\n",
            "TPR/ RECALL/ SENSTIVITY:  0.999\n",
            "PRECISION: 0.997\n",
            "SPECIFICITY:  0.997\n",
            "ACCURACY:  0.998\n",
            "ROC AUC:  0.998\n",
            "Cohens kappa:  0.996\n",
            "F1 score:  0.998\n",
            "\n",
            " CLASSIFICATION REPORT: \n",
            "               precision    recall  f1-score   support\n",
            "\n",
            "           0       1.00      1.00      1.00     26876\n",
            "           1       1.00      1.00      1.00     26629\n",
            "\n",
            "    accuracy                           1.00     53505\n",
            "   macro avg       1.00      1.00      1.00     53505\n",
            "weighted avg       1.00      1.00      1.00     53505\n",
            "\n"
          ]
        }
      ],
      "source": [
        "## 1. Initializing XGboost Classifier\n",
        "\n",
        "xg_cls = XGBClassifier(objective='binary:logistic', colsample_bytree = 0.3, learning_rate = 0.1,\n",
        "                max_depth = 50, alpha = 10, n_estimators = 100)\n",
        "xg_cls.fit(X_train, y_train)\n",
        "\n",
        "## 2. Predicting on Train and test data\n",
        "\n",
        "# y_pred_train = xg_cls.predict(X_train)\n",
        "y_pred_xgb = xg_cls.predict(X_test)\n",
        "\n",
        "# function for evaluating the model output\n",
        "accuracy_result(y_test, y_pred_xgb)"
      ]
    },
    {
      "cell_type": "markdown",
      "metadata": {
        "id": "Gc7ovX6WSMp_"
      },
      "source": [
        "**Q. XGBoost is one the better classifiers -- but still f1-score is very low. What could be the reason?**\n",
        "\n",
        "In my model ,I'm getting f1 score near to 1, that indicate a best fitted model.\n",
        "\n",
        "**Q. What is the increase in number of features after one-hot encoding of the data?**\n",
        "\n",
        "Ans.: There is no need of One-hot encoding because it has been previously done.\n",
        "\n",
        "**Q. Is there any improvement in scores after encoding?**\n",
        "\n",
        "Ans.: Not happened (because There is no need of One-hot encoding so I have not done it)\n",
        "\n",
        "**Q. If not missing a positive sample is the priority which model is best so far?**\n",
        "\n",
        "Ans.:  XGBoost model is performing best.Count of missing positive sample is 6 only.\n",
        "     \n",
        "     **XGBoost CONFUSION MATRIX:\n",
        "     \n",
        "     [[172287      6]\n",
        "      \n",
        "     [     0 171818]]\n",
        "\n",
        "\n",
        "**Q. If not marking negative sample as positive is top priority, which model is best so far?**\n",
        "\n",
        "Ans.:  XGBoost model is performing best. No misclassification for negative sample as positive.\n",
        "     \n",
        "     **XGBoost CONFUSION MATRIX:\n",
        "     \n",
        "     [[172287      6]\n",
        "      \n",
        "     [     0 171818]]\n",
        "\n"
      ]
    },
    {
      "cell_type": "markdown",
      "metadata": {
        "id": "P1SapS24SMp_"
      },
      "source": [
        "### Adaboost classifier"
      ]
    },
    {
      "cell_type": "code",
      "execution_count": 41,
      "metadata": {
        "colab": {
          "base_uri": "https://localhost:8080/"
        },
        "id": "0ycjGchcSMqA",
        "outputId": "d323c3d7-5713-4746-d17d-482247728380"
      },
      "outputs": [
        {
          "output_type": "stream",
          "name": "stdout",
          "text": [
            "\n",
            " CONFUSION MATRIX:\n",
            "  [[16866 10010]\n",
            " [11052 15577]] \n",
            "\n",
            "FPR:  0.372\n",
            "TPR/ RECALL/ SENSTIVITY:  0.585\n",
            "PRECISION: 0.609\n",
            "SPECIFICITY:  0.628\n",
            "ACCURACY:  0.606\n",
            "ROC AUC:  0.606\n",
            "Cohens kappa:  0.213\n",
            "F1 score:  0.597\n",
            "\n",
            " CLASSIFICATION REPORT: \n",
            "               precision    recall  f1-score   support\n",
            "\n",
            "           0       0.60      0.63      0.62     26876\n",
            "           1       0.61      0.58      0.60     26629\n",
            "\n",
            "    accuracy                           0.61     53505\n",
            "   macro avg       0.61      0.61      0.61     53505\n",
            "weighted avg       0.61      0.61      0.61     53505\n",
            "\n"
          ]
        }
      ],
      "source": [
        "# Create adaboost classifer object\n",
        "adaBoost = AdaBoostClassifier(n_estimators=50, learning_rate=1, random_state=0)\n",
        "\n",
        "# Create an imputer to replace NaN values with the mean of each column\n",
        "imputer = SimpleImputer(strategy='mean')\n",
        "\n",
        "# Fit the imputer on your training data and transform both train and test data\n",
        "X_train_imputed = imputer.fit_transform(X_train)\n",
        "X_test_imputed = imputer.transform(X_test)\n",
        "\n",
        "# Train Adaboost Classifer using the imputed data\n",
        "model1 = adaBoost.fit(X_train_imputed, y_train)\n",
        "\n",
        "#Predict the response for test dataset using the imputed data\n",
        "y_pred_ada = model1.predict(X_test_imputed)\n",
        "\n",
        "accuracy_result(y_test, y_pred_ada)"
      ]
    },
    {
      "cell_type": "markdown",
      "metadata": {
        "id": "UEdHp1yiSMqA"
      },
      "source": [
        "**Q.: Do you think using AdaBoost can give any significant improvement over XGBoost?**\n",
        "\n",
        "**Ans.:** No improvement in AdaBoost model result because In my case XGBoost model giving much more better result (Accuracy and F1 score) in compare to AdaBoost model."
      ]
    },
    {
      "cell_type": "markdown",
      "metadata": {
        "id": "ojjl6jaHSMqB"
      },
      "source": [
        "### MLP Classifier"
      ]
    },
    {
      "cell_type": "code",
      "execution_count": 44,
      "metadata": {
        "colab": {
          "base_uri": "https://localhost:8080/"
        },
        "id": "Q3Vv3rbDSMqB",
        "outputId": "0625b211-0a15-4f58-ba76-2d82e2060e3b"
      },
      "outputs": [
        {
          "output_type": "stream",
          "name": "stdout",
          "text": [
            "\n",
            " CONFUSION MATRIX:\n",
            "  [[12754 14122]\n",
            " [ 3270 23359]] \n",
            "\n",
            "FPR:  0.525\n",
            "TPR/ RECALL/ SENSTIVITY:  0.877\n",
            "PRECISION: 0.623\n",
            "SPECIFICITY:  0.475\n",
            "ACCURACY:  0.675\n",
            "ROC AUC:  0.676\n",
            "Cohens kappa:  0.351\n",
            "F1 score:  0.729\n",
            "\n",
            " CLASSIFICATION REPORT: \n",
            "               precision    recall  f1-score   support\n",
            "\n",
            "           0       0.80      0.47      0.59     26876\n",
            "           1       0.62      0.88      0.73     26629\n",
            "\n",
            "    accuracy                           0.67     53505\n",
            "   macro avg       0.71      0.68      0.66     53505\n",
            "weighted avg       0.71      0.67      0.66     53505\n",
            "\n"
          ]
        }
      ],
      "source": [
        "import pandas as pd\n",
        "from sklearn.neural_network import MLPClassifier\n",
        "from sklearn.impute import SimpleImputer\n",
        "\n",
        "# Create an imputer to replace NaN values with the mean of each column\n",
        "imputer = SimpleImputer(strategy='mean')\n",
        "\n",
        "# Fit the imputer on your training data and transform both train and test data\n",
        "X_train_imputed = imputer.fit_transform(X_train)\n",
        "X_test_imputed = imputer.transform(X_test)\n",
        "\n",
        "# Training the model using the imputed data\n",
        "mlp = MLPClassifier(hidden_layer_sizes=(10, 10, 10), activation='logistic', max_iter=200)\n",
        "mlp.fit(X_train_imputed, y_train.values.ravel()) # Use imputed data here\n",
        "\n",
        "# Prediction on x_test using the imputed data\n",
        "y_predic = mlp.predict(X_test_imputed) # Use imputed data here\n",
        "accuracy_result(y_test, y_predic)"
      ]
    },
    {
      "cell_type": "markdown",
      "metadata": {
        "id": "AzVDTr-4SMqB"
      },
      "source": [
        "**Q.: MLPClassifier is the neural network we are trying. But how to choose the right no. of layers and size?**\n",
        "\n",
        "**Q.: At what layer size we get the best f1-score?**\n",
        "\n",
        "**Ans.:**\n",
        "\n",
        "In Generally, you can't analytically calculate the number of layers or the number of nodes to use per layer in an ANN to address a specific real-world predictive modeling problem, But there are many methods for determining the correct number of neurons to use in the hidden layers, such as the following:\n",
        "\n",
        " * The no. of hidden neurons should be between the size of the input layer and the size of the output layer.\n",
        " * The no. of hidden neurons should be 2/3 the size of the input layer, plus the size of the output layer.\n",
        " * The no. of hidden neurons should be less than twice the size of the input layer."
      ]
    },
    {
      "cell_type": "markdown",
      "metadata": {
        "id": "HAsXXCjUSMqB"
      },
      "source": [
        "## Final Result Comperison"
      ]
    },
    {
      "cell_type": "code",
      "execution_count": 45,
      "metadata": {
        "colab": {
          "base_uri": "https://localhost:8080/",
          "height": 238
        },
        "id": "0p4DOxZcSMqC",
        "outputId": "b1cfb6bb-b2c4-4fb9-c3d4-7c7bd46ca5cc"
      },
      "outputs": [
        {
          "output_type": "execute_result",
          "data": {
            "text/plain": [
              "                                   F1_score             Accuracy\n",
              "Log_Reg(Before Resamp)                 0.00                 0.96\n",
              "Log_Reg(After Resamp)                  0.58                 0.59\n",
              "SVC                                    0.56                 0.59\n",
              "XGBoost                                1.00                 1.00\n",
              "AdaBoost                               0.60                 0.61\n",
              "MLP Classifier                         0.73                 0.68"
            ],
            "text/html": [
              "\n",
              "  <div id=\"df-9e57f4bc-d652-4cf2-8665-27698cb3a9f0\" class=\"colab-df-container\">\n",
              "    <div>\n",
              "<style scoped>\n",
              "    .dataframe tbody tr th:only-of-type {\n",
              "        vertical-align: middle;\n",
              "    }\n",
              "\n",
              "    .dataframe tbody tr th {\n",
              "        vertical-align: top;\n",
              "    }\n",
              "\n",
              "    .dataframe thead th {\n",
              "        text-align: right;\n",
              "    }\n",
              "</style>\n",
              "<table border=\"1\" class=\"dataframe\">\n",
              "  <thead>\n",
              "    <tr style=\"text-align: right;\">\n",
              "      <th></th>\n",
              "      <th>F1_score</th>\n",
              "      <th>Accuracy</th>\n",
              "    </tr>\n",
              "  </thead>\n",
              "  <tbody>\n",
              "    <tr>\n",
              "      <th>Log_Reg(Before Resamp)</th>\n",
              "      <td>0.00</td>\n",
              "      <td>0.96</td>\n",
              "    </tr>\n",
              "    <tr>\n",
              "      <th>Log_Reg(After Resamp)</th>\n",
              "      <td>0.58</td>\n",
              "      <td>0.59</td>\n",
              "    </tr>\n",
              "    <tr>\n",
              "      <th>SVC</th>\n",
              "      <td>0.56</td>\n",
              "      <td>0.59</td>\n",
              "    </tr>\n",
              "    <tr>\n",
              "      <th>XGBoost</th>\n",
              "      <td>1.00</td>\n",
              "      <td>1.00</td>\n",
              "    </tr>\n",
              "    <tr>\n",
              "      <th>AdaBoost</th>\n",
              "      <td>0.60</td>\n",
              "      <td>0.61</td>\n",
              "    </tr>\n",
              "    <tr>\n",
              "      <th>MLP Classifier</th>\n",
              "      <td>0.73</td>\n",
              "      <td>0.68</td>\n",
              "    </tr>\n",
              "  </tbody>\n",
              "</table>\n",
              "</div>\n",
              "    <div class=\"colab-df-buttons\">\n",
              "\n",
              "  <div class=\"colab-df-container\">\n",
              "    <button class=\"colab-df-convert\" onclick=\"convertToInteractive('df-9e57f4bc-d652-4cf2-8665-27698cb3a9f0')\"\n",
              "            title=\"Convert this dataframe to an interactive table.\"\n",
              "            style=\"display:none;\">\n",
              "\n",
              "  <svg xmlns=\"http://www.w3.org/2000/svg\" height=\"24px\" viewBox=\"0 -960 960 960\">\n",
              "    <path d=\"M120-120v-720h720v720H120Zm60-500h600v-160H180v160Zm220 220h160v-160H400v160Zm0 220h160v-160H400v160ZM180-400h160v-160H180v160Zm440 0h160v-160H620v160ZM180-180h160v-160H180v160Zm440 0h160v-160H620v160Z\"/>\n",
              "  </svg>\n",
              "    </button>\n",
              "\n",
              "  <style>\n",
              "    .colab-df-container {\n",
              "      display:flex;\n",
              "      gap: 12px;\n",
              "    }\n",
              "\n",
              "    .colab-df-convert {\n",
              "      background-color: #E8F0FE;\n",
              "      border: none;\n",
              "      border-radius: 50%;\n",
              "      cursor: pointer;\n",
              "      display: none;\n",
              "      fill: #1967D2;\n",
              "      height: 32px;\n",
              "      padding: 0 0 0 0;\n",
              "      width: 32px;\n",
              "    }\n",
              "\n",
              "    .colab-df-convert:hover {\n",
              "      background-color: #E2EBFA;\n",
              "      box-shadow: 0px 1px 2px rgba(60, 64, 67, 0.3), 0px 1px 3px 1px rgba(60, 64, 67, 0.15);\n",
              "      fill: #174EA6;\n",
              "    }\n",
              "\n",
              "    .colab-df-buttons div {\n",
              "      margin-bottom: 4px;\n",
              "    }\n",
              "\n",
              "    [theme=dark] .colab-df-convert {\n",
              "      background-color: #3B4455;\n",
              "      fill: #D2E3FC;\n",
              "    }\n",
              "\n",
              "    [theme=dark] .colab-df-convert:hover {\n",
              "      background-color: #434B5C;\n",
              "      box-shadow: 0px 1px 3px 1px rgba(0, 0, 0, 0.15);\n",
              "      filter: drop-shadow(0px 1px 2px rgba(0, 0, 0, 0.3));\n",
              "      fill: #FFFFFF;\n",
              "    }\n",
              "  </style>\n",
              "\n",
              "    <script>\n",
              "      const buttonEl =\n",
              "        document.querySelector('#df-9e57f4bc-d652-4cf2-8665-27698cb3a9f0 button.colab-df-convert');\n",
              "      buttonEl.style.display =\n",
              "        google.colab.kernel.accessAllowed ? 'block' : 'none';\n",
              "\n",
              "      async function convertToInteractive(key) {\n",
              "        const element = document.querySelector('#df-9e57f4bc-d652-4cf2-8665-27698cb3a9f0');\n",
              "        const dataTable =\n",
              "          await google.colab.kernel.invokeFunction('convertToInteractive',\n",
              "                                                    [key], {});\n",
              "        if (!dataTable) return;\n",
              "\n",
              "        const docLinkHtml = 'Like what you see? Visit the ' +\n",
              "          '<a target=\"_blank\" href=https://colab.research.google.com/notebooks/data_table.ipynb>data table notebook</a>'\n",
              "          + ' to learn more about interactive tables.';\n",
              "        element.innerHTML = '';\n",
              "        dataTable['output_type'] = 'display_data';\n",
              "        await google.colab.output.renderOutput(dataTable, element);\n",
              "        const docLink = document.createElement('div');\n",
              "        docLink.innerHTML = docLinkHtml;\n",
              "        element.appendChild(docLink);\n",
              "      }\n",
              "    </script>\n",
              "  </div>\n",
              "\n",
              "\n",
              "<div id=\"df-4ef862e5-c402-49a4-bd04-66f66cdf3e3a\">\n",
              "  <button class=\"colab-df-quickchart\" onclick=\"quickchart('df-4ef862e5-c402-49a4-bd04-66f66cdf3e3a')\"\n",
              "            title=\"Suggest charts\"\n",
              "            style=\"display:none;\">\n",
              "\n",
              "<svg xmlns=\"http://www.w3.org/2000/svg\" height=\"24px\"viewBox=\"0 0 24 24\"\n",
              "     width=\"24px\">\n",
              "    <g>\n",
              "        <path d=\"M19 3H5c-1.1 0-2 .9-2 2v14c0 1.1.9 2 2 2h14c1.1 0 2-.9 2-2V5c0-1.1-.9-2-2-2zM9 17H7v-7h2v7zm4 0h-2V7h2v10zm4 0h-2v-4h2v4z\"/>\n",
              "    </g>\n",
              "</svg>\n",
              "  </button>\n",
              "\n",
              "<style>\n",
              "  .colab-df-quickchart {\n",
              "      --bg-color: #E8F0FE;\n",
              "      --fill-color: #1967D2;\n",
              "      --hover-bg-color: #E2EBFA;\n",
              "      --hover-fill-color: #174EA6;\n",
              "      --disabled-fill-color: #AAA;\n",
              "      --disabled-bg-color: #DDD;\n",
              "  }\n",
              "\n",
              "  [theme=dark] .colab-df-quickchart {\n",
              "      --bg-color: #3B4455;\n",
              "      --fill-color: #D2E3FC;\n",
              "      --hover-bg-color: #434B5C;\n",
              "      --hover-fill-color: #FFFFFF;\n",
              "      --disabled-bg-color: #3B4455;\n",
              "      --disabled-fill-color: #666;\n",
              "  }\n",
              "\n",
              "  .colab-df-quickchart {\n",
              "    background-color: var(--bg-color);\n",
              "    border: none;\n",
              "    border-radius: 50%;\n",
              "    cursor: pointer;\n",
              "    display: none;\n",
              "    fill: var(--fill-color);\n",
              "    height: 32px;\n",
              "    padding: 0;\n",
              "    width: 32px;\n",
              "  }\n",
              "\n",
              "  .colab-df-quickchart:hover {\n",
              "    background-color: var(--hover-bg-color);\n",
              "    box-shadow: 0 1px 2px rgba(60, 64, 67, 0.3), 0 1px 3px 1px rgba(60, 64, 67, 0.15);\n",
              "    fill: var(--button-hover-fill-color);\n",
              "  }\n",
              "\n",
              "  .colab-df-quickchart-complete:disabled,\n",
              "  .colab-df-quickchart-complete:disabled:hover {\n",
              "    background-color: var(--disabled-bg-color);\n",
              "    fill: var(--disabled-fill-color);\n",
              "    box-shadow: none;\n",
              "  }\n",
              "\n",
              "  .colab-df-spinner {\n",
              "    border: 2px solid var(--fill-color);\n",
              "    border-color: transparent;\n",
              "    border-bottom-color: var(--fill-color);\n",
              "    animation:\n",
              "      spin 1s steps(1) infinite;\n",
              "  }\n",
              "\n",
              "  @keyframes spin {\n",
              "    0% {\n",
              "      border-color: transparent;\n",
              "      border-bottom-color: var(--fill-color);\n",
              "      border-left-color: var(--fill-color);\n",
              "    }\n",
              "    20% {\n",
              "      border-color: transparent;\n",
              "      border-left-color: var(--fill-color);\n",
              "      border-top-color: var(--fill-color);\n",
              "    }\n",
              "    30% {\n",
              "      border-color: transparent;\n",
              "      border-left-color: var(--fill-color);\n",
              "      border-top-color: var(--fill-color);\n",
              "      border-right-color: var(--fill-color);\n",
              "    }\n",
              "    40% {\n",
              "      border-color: transparent;\n",
              "      border-right-color: var(--fill-color);\n",
              "      border-top-color: var(--fill-color);\n",
              "    }\n",
              "    60% {\n",
              "      border-color: transparent;\n",
              "      border-right-color: var(--fill-color);\n",
              "    }\n",
              "    80% {\n",
              "      border-color: transparent;\n",
              "      border-right-color: var(--fill-color);\n",
              "      border-bottom-color: var(--fill-color);\n",
              "    }\n",
              "    90% {\n",
              "      border-color: transparent;\n",
              "      border-bottom-color: var(--fill-color);\n",
              "    }\n",
              "  }\n",
              "</style>\n",
              "\n",
              "  <script>\n",
              "    async function quickchart(key) {\n",
              "      const quickchartButtonEl =\n",
              "        document.querySelector('#' + key + ' button');\n",
              "      quickchartButtonEl.disabled = true;  // To prevent multiple clicks.\n",
              "      quickchartButtonEl.classList.add('colab-df-spinner');\n",
              "      try {\n",
              "        const charts = await google.colab.kernel.invokeFunction(\n",
              "            'suggestCharts', [key], {});\n",
              "      } catch (error) {\n",
              "        console.error('Error during call to suggestCharts:', error);\n",
              "      }\n",
              "      quickchartButtonEl.classList.remove('colab-df-spinner');\n",
              "      quickchartButtonEl.classList.add('colab-df-quickchart-complete');\n",
              "    }\n",
              "    (() => {\n",
              "      let quickchartButtonEl =\n",
              "        document.querySelector('#df-4ef862e5-c402-49a4-bd04-66f66cdf3e3a button');\n",
              "      quickchartButtonEl.style.display =\n",
              "        google.colab.kernel.accessAllowed ? 'block' : 'none';\n",
              "    })();\n",
              "  </script>\n",
              "</div>\n",
              "\n",
              "  <div id=\"id_9ba8a6fd-70d5-4daf-b8fb-fceab5995f64\">\n",
              "    <style>\n",
              "      .colab-df-generate {\n",
              "        background-color: #E8F0FE;\n",
              "        border: none;\n",
              "        border-radius: 50%;\n",
              "        cursor: pointer;\n",
              "        display: none;\n",
              "        fill: #1967D2;\n",
              "        height: 32px;\n",
              "        padding: 0 0 0 0;\n",
              "        width: 32px;\n",
              "      }\n",
              "\n",
              "      .colab-df-generate:hover {\n",
              "        background-color: #E2EBFA;\n",
              "        box-shadow: 0px 1px 2px rgba(60, 64, 67, 0.3), 0px 1px 3px 1px rgba(60, 64, 67, 0.15);\n",
              "        fill: #174EA6;\n",
              "      }\n",
              "\n",
              "      [theme=dark] .colab-df-generate {\n",
              "        background-color: #3B4455;\n",
              "        fill: #D2E3FC;\n",
              "      }\n",
              "\n",
              "      [theme=dark] .colab-df-generate:hover {\n",
              "        background-color: #434B5C;\n",
              "        box-shadow: 0px 1px 3px 1px rgba(0, 0, 0, 0.15);\n",
              "        filter: drop-shadow(0px 1px 2px rgba(0, 0, 0, 0.3));\n",
              "        fill: #FFFFFF;\n",
              "      }\n",
              "    </style>\n",
              "    <button class=\"colab-df-generate\" onclick=\"generateWithVariable('df_result')\"\n",
              "            title=\"Generate code using this dataframe.\"\n",
              "            style=\"display:none;\">\n",
              "\n",
              "  <svg xmlns=\"http://www.w3.org/2000/svg\" height=\"24px\"viewBox=\"0 0 24 24\"\n",
              "       width=\"24px\">\n",
              "    <path d=\"M7,19H8.4L18.45,9,17,7.55,7,17.6ZM5,21V16.75L18.45,3.32a2,2,0,0,1,2.83,0l1.4,1.43a1.91,1.91,0,0,1,.58,1.4,1.91,1.91,0,0,1-.58,1.4L9.25,21ZM18.45,9,17,7.55Zm-12,3A5.31,5.31,0,0,0,4.9,8.1,5.31,5.31,0,0,0,1,6.5,5.31,5.31,0,0,0,4.9,4.9,5.31,5.31,0,0,0,6.5,1,5.31,5.31,0,0,0,8.1,4.9,5.31,5.31,0,0,0,12,6.5,5.46,5.46,0,0,0,6.5,12Z\"/>\n",
              "  </svg>\n",
              "    </button>\n",
              "    <script>\n",
              "      (() => {\n",
              "      const buttonEl =\n",
              "        document.querySelector('#id_9ba8a6fd-70d5-4daf-b8fb-fceab5995f64 button.colab-df-generate');\n",
              "      buttonEl.style.display =\n",
              "        google.colab.kernel.accessAllowed ? 'block' : 'none';\n",
              "\n",
              "      buttonEl.onclick = () => {\n",
              "        google.colab.notebook.generateWithVariable('df_result');\n",
              "      }\n",
              "      })();\n",
              "    </script>\n",
              "  </div>\n",
              "\n",
              "    </div>\n",
              "  </div>\n"
            ],
            "application/vnd.google.colaboratory.intrinsic+json": {
              "type": "dataframe",
              "variable_name": "df_result",
              "summary": "{\n  \"name\": \"df_result\",\n  \"rows\": 6,\n  \"fields\": [\n    {\n      \"column\": \"F1_score\",\n      \"properties\": {\n        \"dtype\": \"number\",\n        \"std\": 0.3267835675183194,\n        \"min\": 0.0,\n        \"max\": 0.998,\n        \"num_unique_values\": 6,\n        \"samples\": [\n          0.0,\n          0.58,\n          0.729\n        ],\n        \"semantic_type\": \"\",\n        \"description\": \"\"\n      }\n    },\n    {\n      \"column\": \"Accuracy\",\n      \"properties\": {\n        \"dtype\": \"number\",\n        \"std\": 0.19139845001113953,\n        \"min\": 0.586,\n        \"max\": 0.998,\n        \"num_unique_values\": 6,\n        \"samples\": [\n          0.963,\n          0.595,\n          0.675\n        ],\n        \"semantic_type\": \"\",\n        \"description\": \"\"\n      }\n    }\n  ]\n}"
            }
          },
          "metadata": {},
          "execution_count": 45
        }
      ],
      "source": [
        "data = {'Log_Reg(Before Resamp)':[np.round(f1_score(y_Test, y_pred_logreg1),3), np.round(metrics.accuracy_score(y_Test, y_pred_logreg1),3)],\n",
        "        'Log_Reg(After Resamp)':[np.round(f1_score(y_test, y_pred_logreg2),3), np.round(metrics.accuracy_score(y_test, y_pred_logreg2),3)],\n",
        "        'SVC':[np.round(f1_score(y_test, y_pred_svc),3), np.round(metrics.accuracy_score(y_test, y_pred_svc),3)],\n",
        "        'XGBoost':[np.round(f1_score(y_test, y_pred_xgb),3), np.round(metrics.accuracy_score(y_test, y_pred_xgb),3)],\n",
        "        'AdaBoost':[np.round(f1_score(y_test, y_pred_ada),3), np.round(metrics.accuracy_score(y_test, y_pred_ada),3)],\n",
        "        'MLP Classifier':[np.round(f1_score(y_test, y_predic),3), np.round(metrics.accuracy_score(y_test, y_predic),3)]}\n",
        "\n",
        "df_result=pd.DataFrame(data, index = ['F1_score', 'Accuracy']).T\n",
        "df_result"
      ]
    },
    {
      "cell_type": "markdown",
      "metadata": {
        "id": "ubyYulD6SMqC"
      },
      "source": [
        "**After comparing the F1- score and Accuracy of all used Machine Learning models, we found that XGBoost model is best performing and giving best result with respect to all other model.**"
      ]
    },
    {
      "cell_type": "code",
      "execution_count": null,
      "metadata": {
        "id": "yF_FzZOdSMqC"
      },
      "outputs": [],
      "source": []
    }
  ],
  "metadata": {
    "kernelspec": {
      "display_name": "Python 3",
      "language": "python",
      "name": "python3"
    },
    "language_info": {
      "codemirror_mode": {
        "name": "ipython",
        "version": 3
      },
      "file_extension": ".py",
      "mimetype": "text/x-python",
      "name": "python",
      "nbconvert_exporter": "python",
      "pygments_lexer": "ipython3",
      "version": "3.8.5"
    },
    "colab": {
      "provenance": []
    }
  },
  "nbformat": 4,
  "nbformat_minor": 0
}